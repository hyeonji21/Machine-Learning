{
 "cells": [
  {
   "cell_type": "markdown",
   "metadata": {},
   "source": [
    "\n",
    "### 문제  \n",
    "- 이번 스터디에서 여러분은 음식 배달 서비스를 위한 예측 모델을 만들어야 합니다. 여러분이 예측해야하는 값은  \n",
    "   **음식 배달에 걸리는 시간**입니다.\n",
    "- 예측된 배달 시간보다 실제 배달 시간이 더 걸린 경우(under-prediction)가 반대의 경우(over-prediction)보다 두 배로  \n",
    "  사용자에게 안 좋은 영향을 준다고 알려져 있습니다.\n",
    "- 여러분은 가능한 한 실제 배달 시간과 가까운 값을 예측하되 동시에 under-prediction을 최소화하는 것이 좋은 예측 모델입니다.\n",
    "- 또한 여러분은 중간 비워져 있는 **Inline practice**를 수행하셔야 합니다.\n",
    "<br><br><br><hr>  \n",
    "\n",
    "### 데이터 설명\n",
    "- 제가 제공하는 파일인 \"delivery.csv\"는 다음과 같은 feature들을 가지고 있습니다.\n",
    "  - 시간 특성\n",
    "    - created_at : 주문이 생성된 시간의 Timestamp(UTC)\n",
    "    - actual_delivery_time : 주문자가 배달을 받은 시간의 Timestamp(UTC)\n",
    "  - 식당 특성\n",
    "    - market_id : 지역(배달이 이루어지는 도시) 아이디\n",
    "    - store_id : 식당 아이디\n",
    "    - store_primary_category : 식당의 카테고리(ex. italian, asian ...)\n",
    "    - order_protocol : 주문을 받을 수 있는 방식을 나타내는 아이디\n",
    "  - 주문 특성\n",
    "    - total_items : 주문에 포함된 음식(item) 개수\n",
    "    - subtotal : 가격(센트 단위)\n",
    "    - num_distinct_items : 주문에 포함된 비중복 음식(item)의 개수\n",
    "    - min_item_price : 주문에 포함된 가장 싼 음식(item)의 가격\n",
    "    - max_item_price : 주문에 포함된 가장 비싼 음식(item)의 가격\n",
    "  - 지역 상황 특성\n",
    "    - total_onshift : 주문이 생성되었을 때 가게로부터 10 마일 이내에 있는 배달원의 수\n",
    "    - total_busy : 위 배달원 중 주문에 관여하고 있는 사람들의 수\n",
    "    - total_outstanding_orders : 주문한 가게로부터 10 마일 이내에 있는 다른 주문들의 수\n",
    "  - 다른 모델들의 예측값 특성\n",
    "    - estimated_order_place_duration : 식당이 주문을 받을 때까지 걸릴 것으로 예상되는 시간(초 단위)\n",
    "    - estimated_store_to_consumer_driving_duration : 식당에서 출발해 주문자에게 도착할 때까지 걸릴 것으로 예측되는 시간(초 단위)\n",
    "\n",
    "※ 위 feature들 중 **actual_delivery_time**을 제외한 모든 속성들을 모델의 입력으로 사용할 수 있습니다.  \n",
    "※ 모델이 예측해야 하는 값은 actual_delivery_time과 created_at으로 구할 수 있습니다. (초 단위로 표현된 두 feature간의 차이값)  \n",
    "<br><hr>"
   ]
  },
  {
   "cell_type": "code",
   "execution_count": 2,
   "metadata": {},
   "outputs": [],
   "source": [
    "import pandas as pd\n",
    "import numpy as np\n",
    "import matplotlib.pyplot as plt\n",
    "import seaborn as sns"
   ]
  },
  {
   "cell_type": "markdown",
   "metadata": {},
   "source": [
    "<br><br> \n",
    "\n",
    "### Get DataFrame\n",
    "- delivery.csv 파일을 가져옵시다."
   ]
  },
  {
   "cell_type": "code",
   "execution_count": 3,
   "metadata": {},
   "outputs": [
    {
     "data": {
      "text/html": [
       "<div>\n",
       "<style scoped>\n",
       "    .dataframe tbody tr th:only-of-type {\n",
       "        vertical-align: middle;\n",
       "    }\n",
       "\n",
       "    .dataframe tbody tr th {\n",
       "        vertical-align: top;\n",
       "    }\n",
       "\n",
       "    .dataframe thead th {\n",
       "        text-align: right;\n",
       "    }\n",
       "</style>\n",
       "<table border=\"1\" class=\"dataframe\">\n",
       "  <thead>\n",
       "    <tr style=\"text-align: right;\">\n",
       "      <th></th>\n",
       "      <th>market_id</th>\n",
       "      <th>created_at</th>\n",
       "      <th>actual_delivery_time</th>\n",
       "      <th>store_id</th>\n",
       "      <th>store_primary_category</th>\n",
       "      <th>order_protocol</th>\n",
       "      <th>total_items</th>\n",
       "      <th>subtotal</th>\n",
       "      <th>num_distinct_items</th>\n",
       "      <th>min_item_price</th>\n",
       "      <th>max_item_price</th>\n",
       "      <th>total_onshift</th>\n",
       "      <th>total_busy</th>\n",
       "      <th>total_outstanding_orders</th>\n",
       "      <th>estimated_order_place_duration</th>\n",
       "      <th>estimated_store_to_consumer_driving_duration</th>\n",
       "    </tr>\n",
       "  </thead>\n",
       "  <tbody>\n",
       "    <tr>\n",
       "      <th>0</th>\n",
       "      <td>1.0</td>\n",
       "      <td>2015-02-06 22:24:17</td>\n",
       "      <td>2015-02-06 23:27:16</td>\n",
       "      <td>1845</td>\n",
       "      <td>american</td>\n",
       "      <td>1.0</td>\n",
       "      <td>4</td>\n",
       "      <td>3441</td>\n",
       "      <td>4</td>\n",
       "      <td>557</td>\n",
       "      <td>1239</td>\n",
       "      <td>33.0</td>\n",
       "      <td>14.0</td>\n",
       "      <td>21.0</td>\n",
       "      <td>446</td>\n",
       "      <td>861.0</td>\n",
       "    </tr>\n",
       "    <tr>\n",
       "      <th>1</th>\n",
       "      <td>2.0</td>\n",
       "      <td>2015-02-10 21:49:25</td>\n",
       "      <td>2015-02-10 22:56:29</td>\n",
       "      <td>5477</td>\n",
       "      <td>mexican</td>\n",
       "      <td>2.0</td>\n",
       "      <td>1</td>\n",
       "      <td>1900</td>\n",
       "      <td>1</td>\n",
       "      <td>1400</td>\n",
       "      <td>1400</td>\n",
       "      <td>1.0</td>\n",
       "      <td>2.0</td>\n",
       "      <td>2.0</td>\n",
       "      <td>446</td>\n",
       "      <td>690.0</td>\n",
       "    </tr>\n",
       "    <tr>\n",
       "      <th>2</th>\n",
       "      <td>3.0</td>\n",
       "      <td>2015-01-22 20:39:28</td>\n",
       "      <td>2015-01-22 21:09:09</td>\n",
       "      <td>5477</td>\n",
       "      <td>NaN</td>\n",
       "      <td>1.0</td>\n",
       "      <td>1</td>\n",
       "      <td>1900</td>\n",
       "      <td>1</td>\n",
       "      <td>1900</td>\n",
       "      <td>1900</td>\n",
       "      <td>1.0</td>\n",
       "      <td>0.0</td>\n",
       "      <td>0.0</td>\n",
       "      <td>446</td>\n",
       "      <td>690.0</td>\n",
       "    </tr>\n",
       "    <tr>\n",
       "      <th>3</th>\n",
       "      <td>3.0</td>\n",
       "      <td>2015-02-03 21:21:45</td>\n",
       "      <td>2015-02-03 22:13:00</td>\n",
       "      <td>5477</td>\n",
       "      <td>NaN</td>\n",
       "      <td>1.0</td>\n",
       "      <td>6</td>\n",
       "      <td>6900</td>\n",
       "      <td>5</td>\n",
       "      <td>600</td>\n",
       "      <td>1800</td>\n",
       "      <td>1.0</td>\n",
       "      <td>1.0</td>\n",
       "      <td>2.0</td>\n",
       "      <td>446</td>\n",
       "      <td>289.0</td>\n",
       "    </tr>\n",
       "    <tr>\n",
       "      <th>4</th>\n",
       "      <td>3.0</td>\n",
       "      <td>2015-02-15 02:40:36</td>\n",
       "      <td>2015-02-15 03:20:26</td>\n",
       "      <td>5477</td>\n",
       "      <td>NaN</td>\n",
       "      <td>1.0</td>\n",
       "      <td>3</td>\n",
       "      <td>3900</td>\n",
       "      <td>3</td>\n",
       "      <td>1100</td>\n",
       "      <td>1600</td>\n",
       "      <td>6.0</td>\n",
       "      <td>6.0</td>\n",
       "      <td>9.0</td>\n",
       "      <td>446</td>\n",
       "      <td>650.0</td>\n",
       "    </tr>\n",
       "  </tbody>\n",
       "</table>\n",
       "</div>"
      ],
      "text/plain": [
       "   market_id           created_at actual_delivery_time  store_id  \\\n",
       "0        1.0  2015-02-06 22:24:17  2015-02-06 23:27:16      1845   \n",
       "1        2.0  2015-02-10 21:49:25  2015-02-10 22:56:29      5477   \n",
       "2        3.0  2015-01-22 20:39:28  2015-01-22 21:09:09      5477   \n",
       "3        3.0  2015-02-03 21:21:45  2015-02-03 22:13:00      5477   \n",
       "4        3.0  2015-02-15 02:40:36  2015-02-15 03:20:26      5477   \n",
       "\n",
       "  store_primary_category  order_protocol  total_items  subtotal  \\\n",
       "0               american             1.0            4      3441   \n",
       "1                mexican             2.0            1      1900   \n",
       "2                    NaN             1.0            1      1900   \n",
       "3                    NaN             1.0            6      6900   \n",
       "4                    NaN             1.0            3      3900   \n",
       "\n",
       "   num_distinct_items  min_item_price  max_item_price  total_onshift  \\\n",
       "0                   4             557            1239           33.0   \n",
       "1                   1            1400            1400            1.0   \n",
       "2                   1            1900            1900            1.0   \n",
       "3                   5             600            1800            1.0   \n",
       "4                   3            1100            1600            6.0   \n",
       "\n",
       "   total_busy  total_outstanding_orders  estimated_order_place_duration  \\\n",
       "0        14.0                      21.0                             446   \n",
       "1         2.0                       2.0                             446   \n",
       "2         0.0                       0.0                             446   \n",
       "3         1.0                       2.0                             446   \n",
       "4         6.0                       9.0                             446   \n",
       "\n",
       "   estimated_store_to_consumer_driving_duration  \n",
       "0                                         861.0  \n",
       "1                                         690.0  \n",
       "2                                         690.0  \n",
       "3                                         289.0  \n",
       "4                                         650.0  "
      ]
     },
     "execution_count": 3,
     "metadata": {},
     "output_type": "execute_result"
    }
   ],
   "source": [
    "df = pd.read_csv('./delivery.csv', sep='\\t')\n",
    "df.head(5)"
   ]
  },
  {
   "cell_type": "code",
   "execution_count": 4,
   "metadata": {},
   "outputs": [
    {
     "data": {
      "text/plain": [
       "0         2015-02-06 22:24:17\n",
       "1         2015-02-10 21:49:25\n",
       "2         2015-01-22 20:39:28\n",
       "3         2015-02-03 21:21:45\n",
       "4         2015-02-15 02:40:36\n",
       "                 ...         \n",
       "197423    2015-02-17 00:19:41\n",
       "197424    2015-02-13 00:01:59\n",
       "197425    2015-01-24 04:46:08\n",
       "197426    2015-02-01 18:18:15\n",
       "197427    2015-02-08 19:24:33\n",
       "Name: created_at, Length: 197428, dtype: object"
      ]
     },
     "execution_count": 4,
     "metadata": {},
     "output_type": "execute_result"
    }
   ],
   "source": [
    "df['created_at']"
   ]
  },
  {
   "cell_type": "markdown",
   "metadata": {},
   "source": [
    "<br> \n",
    "시간 데이터가 존재합니다. 다만 type가 명시적이지 않으니 type를 datetime 타입으로 변경해주는 작업을 합니다."
   ]
  },
  {
   "cell_type": "code",
   "execution_count": 5,
   "metadata": {},
   "outputs": [],
   "source": [
    "df['created_at'] = pd.to_datetime(df['created_at'])\n",
    "df['actual_delivery_time'] = pd.to_datetime(df['actual_delivery_time'])"
   ]
  },
  {
   "cell_type": "code",
   "execution_count": 6,
   "metadata": {},
   "outputs": [
    {
     "data": {
      "text/plain": [
       "0        2015-02-06 22:24:17\n",
       "1        2015-02-10 21:49:25\n",
       "2        2015-01-22 20:39:28\n",
       "3        2015-02-03 21:21:45\n",
       "4        2015-02-15 02:40:36\n",
       "                 ...        \n",
       "197423   2015-02-17 00:19:41\n",
       "197424   2015-02-13 00:01:59\n",
       "197425   2015-01-24 04:46:08\n",
       "197426   2015-02-01 18:18:15\n",
       "197427   2015-02-08 19:24:33\n",
       "Name: created_at, Length: 197428, dtype: datetime64[ns]"
      ]
     },
     "execution_count": 6,
     "metadata": {},
     "output_type": "execute_result"
    }
   ],
   "source": [
    "df['created_at']"
   ]
  },
  {
   "cell_type": "markdown",
   "metadata": {},
   "source": [
    "<br> <br> \n",
    "\n",
    "### 데이터 정제(결측값 처리)\n",
    "- 결측값이 있는지 확인해봅시다.\n"
   ]
  },
  {
   "cell_type": "code",
   "execution_count": 7,
   "metadata": {},
   "outputs": [
    {
     "data": {
      "text/plain": [
       "market_id                                         987\n",
       "created_at                                          0\n",
       "actual_delivery_time                                7\n",
       "store_id                                            0\n",
       "store_primary_category                           4760\n",
       "order_protocol                                    995\n",
       "total_items                                         0\n",
       "subtotal                                            0\n",
       "num_distinct_items                                  0\n",
       "min_item_price                                      0\n",
       "max_item_price                                      0\n",
       "total_onshift                                   16262\n",
       "total_busy                                      16262\n",
       "total_outstanding_orders                        16262\n",
       "estimated_order_place_duration                      0\n",
       "estimated_store_to_consumer_driving_duration      526\n",
       "dtype: int64"
      ]
     },
     "execution_count": 7,
     "metadata": {},
     "output_type": "execute_result"
    }
   ],
   "source": [
    "df.isnull().sum()"
   ]
  },
  {
   "cell_type": "markdown",
   "metadata": {},
   "source": [
    "#### **replace**\n",
    "- ```total_```: 결측값이 많지만, 수치 데이터이고 학습에 중요한 역할을 수행할 것이라 판단하였음."
   ]
  },
  {
   "cell_type": "markdown",
   "metadata": {},
   "source": [
    "#### **drop**\n",
    "- ```market_id``` : 아래와 같이 한 가게가 여러 지역을 맡아서 처리하기 때문에 대치하기 어렵습니다.  \n",
    "- ```actual_delivery_time```: 예측에 사용할 특성이 정확하지 않으면 학습에 영향이 있을 것으로 판단하였습니다.  \n",
    "- ```store_primary_category```: 한 가게에서 여러 종류의 음식을 할 수 있으므로 함부로 대치하기 어렵습니다.\n",
    "- ```estimated_store_to_consumer_driving_duration```: 다른 모델의 예측값입니다. 대치하기 어렵습니다.\n",
    "- ```order_protocol```: 주문을 받을 수 있는 방식을 나타내는 아이디는 학습에 전혀 상관 없을 것으로 판단하였습니다."
   ]
  },
  {
   "cell_type": "code",
   "execution_count": 8,
   "metadata": {},
   "outputs": [
    {
     "name": "stdout",
     "output_type": "stream",
     "text": [
      "store id : 5081\n",
      "market id : [ 4. nan  1.  2.]\n"
     ]
    }
   ],
   "source": [
    "sid = df[df['market_id'].isnull()]['store_id'].unique()\n",
    "print('store id : {}\\nmarket id : {}'.format(sid[1] ,df[df['store_id']==sid[1]]['market_id'].unique()))"
   ]
  },
  {
   "cell_type": "code",
   "execution_count": 9,
   "metadata": {},
   "outputs": [
    {
     "name": "stdout",
     "output_type": "stream",
     "text": [
      "store id : 4149\n",
      "market id : ['sandwich' nan 'thai']\n"
     ]
    }
   ],
   "source": [
    "sid = df[df['store_primary_category'].isnull()]['store_id'].unique()\n",
    "print('store id : {}\\nmarket id : {}'.format(sid[1] ,df[df['store_id']==sid[1]]['store_primary_category'].unique()))"
   ]
  },
  {
   "cell_type": "markdown",
   "metadata": {},
   "source": [
    "<hr><br>\n",
    "\n",
    "##### **Inline Practice 1**  \n",
    "\n",
    "- 데이터를 중간값(median)으로 대치하려고 합니다. \n",
    "- sklearn.impute의 SimpleImputer를 사용하여 데이터를 **replace**하는 impute_total_value() 메소드를 작성하세요.\n",
    "\n",
    "<br><hr>"
   ]
  },
  {
   "cell_type": "code",
   "execution_count": 10,
   "metadata": {},
   "outputs": [],
   "source": [
    "# 데이터 대치\n",
    "from sklearn.impute import SimpleImputer\n",
    "\n",
    "def impute_total_value(df):\n",
    "    '''\n",
    "    impute kinds of total_ values with median\n",
    "    use sklearn.imputer\n",
    "    '''\n",
    "\n",
    "    imputer_mid = SimpleImputer(strategy='median', missing_values=np.nan)\n",
    "    \n",
    "    imputer_mid = imputer_mid.fit(df[['total_onshift', 'total_busy', 'total_outstanding_orders']])\n",
    "    df[['total_onshift', 'total_busy', 'total_outstanding_orders']] = imputer_mid.transform(df[['total_onshift', 'total_busy', 'total_outstanding_orders']])\n",
    "\n",
    "    '''\n",
    "    imputer_mid = imputer_mid.fit(df[['total_busy']])\n",
    "    df[['total_busy']] = imputer_mid.transform(df[['total_busy']])\n",
    "\n",
    "    imputer_mid = imputer_mid.fit(df[['total_outstanding_orders']])\n",
    "    df[['total_outstanding_orders']] = imputer_mid.transform(df[['total_outstanding_orders']])\n",
    "    '''\n",
    "    \n",
    "    return df\n"
   ]
  },
  {
   "cell_type": "markdown",
   "metadata": {},
   "source": [
    "replace와 drop를 수행합니다."
   ]
  },
  {
   "cell_type": "code",
   "execution_count": 11,
   "metadata": {},
   "outputs": [
    {
     "data": {
      "text/plain": [
       "market_id                                       0\n",
       "created_at                                      0\n",
       "actual_delivery_time                            0\n",
       "store_id                                        0\n",
       "store_primary_category                          0\n",
       "order_protocol                                  0\n",
       "total_items                                     0\n",
       "subtotal                                        0\n",
       "num_distinct_items                              0\n",
       "min_item_price                                  0\n",
       "max_item_price                                  0\n",
       "total_onshift                                   0\n",
       "total_busy                                      0\n",
       "total_outstanding_orders                        0\n",
       "estimated_order_place_duration                  0\n",
       "estimated_store_to_consumer_driving_duration    0\n",
       "dtype: int64"
      ]
     },
     "execution_count": 11,
     "metadata": {},
     "output_type": "execute_result"
    }
   ],
   "source": [
    "df = impute_total_value(df)\n",
    "df = df.dropna()\n",
    "df.isnull().sum()"
   ]
  },
  {
   "cell_type": "markdown",
   "metadata": {},
   "source": [
    "#### **Featrue selection and Feature extraction**\n",
    "학습에 필요한 Feature를 생성해줍시다.  \n",
    "필요하다면 만들어주는 작업도 수행할 것입니다.\n",
    "\n",
    "- 배달에 걸린시간 : `actual_delivery_time` - `create_at`\n",
    "- 주문 시간 : 주문자가 주문을 한 시간에 따라 배달 시간에 차이가 있을 것으로 예상합니다. (peak time)\n",
    "- 타 모델의 배달에 걸린시간 예측값 : `estimated_order_place_duration` + `estimated_store_to_consumer_driving_duration`**"
   ]
  },
  {
   "cell_type": "code",
   "execution_count": 12,
   "metadata": {},
   "outputs": [
    {
     "data": {
      "text/plain": [
       "0     3779.0\n",
       "1     4024.0\n",
       "8     1586.0\n",
       "14    2273.0\n",
       "15    2988.0\n",
       "Name: delivery_time, dtype: float64"
      ]
     },
     "execution_count": 12,
     "metadata": {},
     "output_type": "execute_result"
    }
   ],
   "source": [
    "# 배달에 걸린 시간\n",
    "def calculate_delivery_time(df):\n",
    "    df.loc[:,'delivery_time'] = df.loc[:,'actual_delivery_time'] - df.loc[:,'created_at']\n",
    "    df.loc[:,'delivery_time'] = df.loc[:,'delivery_time'].dt.total_seconds().astype(float)\n",
    "\n",
    "calculate_delivery_time(df)\n",
    "df['delivery_time'].head()"
   ]
  },
  {
   "cell_type": "code",
   "execution_count": 13,
   "metadata": {},
   "outputs": [
    {
     "data": {
      "text/plain": [
       "0     22\n",
       "1     21\n",
       "8      0\n",
       "14     3\n",
       "15     2\n",
       "Name: ordered_time, dtype: int64"
      ]
     },
     "execution_count": 13,
     "metadata": {},
     "output_type": "execute_result"
    }
   ],
   "source": [
    "# 고객이 주문을 요청한 시각\n",
    "def make_ordered_time(df):\n",
    "    df['ordered_time'] = df['created_at'].apply(lambda x: x.hour)\n",
    "\n",
    "make_ordered_time(df)\n",
    "df['ordered_time'].head()"
   ]
  },
  {
   "cell_type": "code",
   "execution_count": 14,
   "metadata": {},
   "outputs": [
    {
     "data": {
      "text/plain": [
       "0     1307.0\n",
       "1     1136.0\n",
       "8      735.0\n",
       "14    1241.0\n",
       "15     651.0\n",
       "Name: estimated, dtype: float64"
      ]
     },
     "execution_count": 14,
     "metadata": {},
     "output_type": "execute_result"
    }
   ],
   "source": [
    "# 타 모델의 예측값\n",
    "df['estimated'] = df['estimated_order_place_duration'] + df['estimated_store_to_consumer_driving_duration']\n",
    "df['estimated'].head()"
   ]
  },
  {
   "cell_type": "markdown",
   "metadata": {},
   "source": [
    "<br><br>\n",
    "\n",
    "#### **필요 없는 Columns 삭제**\n",
    "- Columns의 수가 너무 많아졌습니다.\n",
    "- 필요없는 Columns는 삭제해봅시다."
   ]
  },
  {
   "cell_type": "code",
   "execution_count": 15,
   "metadata": {},
   "outputs": [
    {
     "name": "stdout",
     "output_type": "stream",
     "text": [
      "<class 'pandas.core.frame.DataFrame'>\n",
      "Int64Index: 191407 entries, 0 to 197427\n",
      "Data columns (total 19 columns):\n",
      " #   Column                                        Non-Null Count   Dtype         \n",
      "---  ------                                        --------------   -----         \n",
      " 0   market_id                                     191407 non-null  float64       \n",
      " 1   created_at                                    191407 non-null  datetime64[ns]\n",
      " 2   actual_delivery_time                          191407 non-null  datetime64[ns]\n",
      " 3   store_id                                      191407 non-null  int64         \n",
      " 4   store_primary_category                        191407 non-null  object        \n",
      " 5   order_protocol                                191407 non-null  float64       \n",
      " 6   total_items                                   191407 non-null  int64         \n",
      " 7   subtotal                                      191407 non-null  int64         \n",
      " 8   num_distinct_items                            191407 non-null  int64         \n",
      " 9   min_item_price                                191407 non-null  int64         \n",
      " 10  max_item_price                                191407 non-null  int64         \n",
      " 11  total_onshift                                 191407 non-null  float64       \n",
      " 12  total_busy                                    191407 non-null  float64       \n",
      " 13  total_outstanding_orders                      191407 non-null  float64       \n",
      " 14  estimated_order_place_duration                191407 non-null  int64         \n",
      " 15  estimated_store_to_consumer_driving_duration  191407 non-null  float64       \n",
      " 16  delivery_time                                 191407 non-null  float64       \n",
      " 17  ordered_time                                  191407 non-null  int64         \n",
      " 18  estimated                                     191407 non-null  float64       \n",
      "dtypes: datetime64[ns](2), float64(8), int64(8), object(1)\n",
      "memory usage: 29.2+ MB\n"
     ]
    }
   ],
   "source": [
    "df.info()"
   ]
  },
  {
   "cell_type": "markdown",
   "metadata": {},
   "source": [
    "<hr><br>\n",
    "\n",
    "##### **Inline Practice 2**  \n",
    "\n",
    "- 우리가 쓰려고 하는 columns를 제외하고 나머지는 제거하려고 합니다.\n",
    "- cols를 제외한 나머지를 drop한 후의 결과값을 `_df` 변수에 DataFrame 타입으로 생성해주세요\n",
    "\n",
    "<br><hr>"
   ]
  },
  {
   "cell_type": "code",
   "execution_count": 16,
   "metadata": {},
   "outputs": [],
   "source": [
    "cols = [\n",
    "    'store_primary_category',\n",
    "    'total_items',\n",
    "    'subtotal',\n",
    "    'num_distinct_items',\n",
    "    'min_item_price',\n",
    "    'max_item_price',\n",
    "    'total_onshift',\n",
    "    'total_busy',\n",
    "    'total_outstanding_orders',\n",
    "    'estimated',\n",
    "    'delivery_time',\n",
    "    'ordered_time'\n",
    "]\n",
    "'''\n",
    "make DataFrame.\n",
    "use pd.DataFrame.drop()\n",
    "'''\n",
    "\n",
    "_df = df[cols]\n"
   ]
  },
  {
   "cell_type": "code",
   "execution_count": 17,
   "metadata": {},
   "outputs": [],
   "source": [
    "#dropped_cols = [col for col in df.columns if col not in cols]\n",
    "#_df = df.drop(dropped_cols, axis=1)"
   ]
  },
  {
   "cell_type": "code",
   "execution_count": 18,
   "metadata": {},
   "outputs": [
    {
     "data": {
      "text/html": [
       "<div>\n",
       "<style scoped>\n",
       "    .dataframe tbody tr th:only-of-type {\n",
       "        vertical-align: middle;\n",
       "    }\n",
       "\n",
       "    .dataframe tbody tr th {\n",
       "        vertical-align: top;\n",
       "    }\n",
       "\n",
       "    .dataframe thead th {\n",
       "        text-align: right;\n",
       "    }\n",
       "</style>\n",
       "<table border=\"1\" class=\"dataframe\">\n",
       "  <thead>\n",
       "    <tr style=\"text-align: right;\">\n",
       "      <th></th>\n",
       "      <th>store_primary_category</th>\n",
       "      <th>total_items</th>\n",
       "      <th>subtotal</th>\n",
       "      <th>num_distinct_items</th>\n",
       "      <th>min_item_price</th>\n",
       "      <th>max_item_price</th>\n",
       "      <th>total_onshift</th>\n",
       "      <th>total_busy</th>\n",
       "      <th>total_outstanding_orders</th>\n",
       "      <th>estimated</th>\n",
       "      <th>delivery_time</th>\n",
       "      <th>ordered_time</th>\n",
       "    </tr>\n",
       "  </thead>\n",
       "  <tbody>\n",
       "    <tr>\n",
       "      <th>0</th>\n",
       "      <td>american</td>\n",
       "      <td>4</td>\n",
       "      <td>3441</td>\n",
       "      <td>4</td>\n",
       "      <td>557</td>\n",
       "      <td>1239</td>\n",
       "      <td>33.0</td>\n",
       "      <td>14.0</td>\n",
       "      <td>21.0</td>\n",
       "      <td>1307.0</td>\n",
       "      <td>3779.0</td>\n",
       "      <td>22</td>\n",
       "    </tr>\n",
       "    <tr>\n",
       "      <th>1</th>\n",
       "      <td>mexican</td>\n",
       "      <td>1</td>\n",
       "      <td>1900</td>\n",
       "      <td>1</td>\n",
       "      <td>1400</td>\n",
       "      <td>1400</td>\n",
       "      <td>1.0</td>\n",
       "      <td>2.0</td>\n",
       "      <td>2.0</td>\n",
       "      <td>1136.0</td>\n",
       "      <td>4024.0</td>\n",
       "      <td>21</td>\n",
       "    </tr>\n",
       "    <tr>\n",
       "      <th>8</th>\n",
       "      <td>indian</td>\n",
       "      <td>4</td>\n",
       "      <td>4771</td>\n",
       "      <td>3</td>\n",
       "      <td>820</td>\n",
       "      <td>1604</td>\n",
       "      <td>8.0</td>\n",
       "      <td>6.0</td>\n",
       "      <td>18.0</td>\n",
       "      <td>735.0</td>\n",
       "      <td>1586.0</td>\n",
       "      <td>0</td>\n",
       "    </tr>\n",
       "    <tr>\n",
       "      <th>14</th>\n",
       "      <td>italian</td>\n",
       "      <td>1</td>\n",
       "      <td>1525</td>\n",
       "      <td>1</td>\n",
       "      <td>1525</td>\n",
       "      <td>1525</td>\n",
       "      <td>5.0</td>\n",
       "      <td>6.0</td>\n",
       "      <td>8.0</td>\n",
       "      <td>1241.0</td>\n",
       "      <td>2273.0</td>\n",
       "      <td>3</td>\n",
       "    </tr>\n",
       "    <tr>\n",
       "      <th>15</th>\n",
       "      <td>italian</td>\n",
       "      <td>2</td>\n",
       "      <td>3620</td>\n",
       "      <td>2</td>\n",
       "      <td>1425</td>\n",
       "      <td>2195</td>\n",
       "      <td>5.0</td>\n",
       "      <td>5.0</td>\n",
       "      <td>7.0</td>\n",
       "      <td>651.0</td>\n",
       "      <td>2988.0</td>\n",
       "      <td>2</td>\n",
       "    </tr>\n",
       "  </tbody>\n",
       "</table>\n",
       "</div>"
      ],
      "text/plain": [
       "   store_primary_category  total_items  subtotal  num_distinct_items  \\\n",
       "0                american            4      3441                   4   \n",
       "1                 mexican            1      1900                   1   \n",
       "8                  indian            4      4771                   3   \n",
       "14                italian            1      1525                   1   \n",
       "15                italian            2      3620                   2   \n",
       "\n",
       "    min_item_price  max_item_price  total_onshift  total_busy  \\\n",
       "0              557            1239           33.0        14.0   \n",
       "1             1400            1400            1.0         2.0   \n",
       "8              820            1604            8.0         6.0   \n",
       "14            1525            1525            5.0         6.0   \n",
       "15            1425            2195            5.0         5.0   \n",
       "\n",
       "    total_outstanding_orders  estimated  delivery_time  ordered_time  \n",
       "0                       21.0     1307.0         3779.0            22  \n",
       "1                        2.0     1136.0         4024.0            21  \n",
       "8                       18.0      735.0         1586.0             0  \n",
       "14                       8.0     1241.0         2273.0             3  \n",
       "15                       7.0      651.0         2988.0             2  "
      ]
     },
     "execution_count": 18,
     "metadata": {},
     "output_type": "execute_result"
    }
   ],
   "source": [
    "_df.head(5)"
   ]
  },
  {
   "cell_type": "markdown",
   "metadata": {},
   "source": [
    "<br>\n",
    "\n",
    "#### **범주형 데이터 처리**\n",
    "범주형 데이터는 수치 데이터가 아니기 원래라면 학습이 불가능합니다.\n",
    "다행히도 pandas 라이브러리는 범주형 데이터를 내부적으로 수치형 데이터로 바꿔주는 type을 가지고 있는데요.\n",
    "\n",
    "`pd.DataFrame.astype('category')`, `pd.cut()`, `pd.qcut()`를 사용하면 쉽게 범주형 데이터 타입으로 바꿔줄 수 있습니다.  "
   ]
  },
  {
   "cell_type": "code",
   "execution_count": 19,
   "metadata": {},
   "outputs": [
    {
     "name": "stderr",
     "output_type": "stream",
     "text": [
      "C:\\Users\\0105l\\AppData\\Local\\Temp\\ipykernel_3436\\2336841230.py:1: SettingWithCopyWarning: \n",
      "A value is trying to be set on a copy of a slice from a DataFrame.\n",
      "Try using .loc[row_indexer,col_indexer] = value instead\n",
      "\n",
      "See the caveats in the documentation: https://pandas.pydata.org/pandas-docs/stable/user_guide/indexing.html#returning-a-view-versus-a-copy\n",
      "  _df['store_primary_category'] = _df['store_primary_category'].astype('category')\n"
     ]
    },
    {
     "data": {
      "text/plain": [
       "CategoricalDtype(categories=['afghan', 'african', 'alcohol', 'alcohol-plus-food',\n",
       "                  'american', 'argentine', 'asian', 'barbecue', 'belgian',\n",
       "                  'brazilian', 'breakfast', 'british', 'bubble-tea', 'burger',\n",
       "                  'burmese', 'cafe', 'cajun', 'caribbean', 'catering',\n",
       "                  'cheese', 'chinese', 'chocolate', 'comfort-food',\n",
       "                  'convenience-store', 'dessert', 'dim-sum', 'ethiopian',\n",
       "                  'european', 'fast', 'filipino', 'french', 'gastropub',\n",
       "                  'german', 'gluten-free', 'greek', 'hawaiian', 'indian',\n",
       "                  'indonesian', 'irish', 'italian', 'japanese', 'korean',\n",
       "                  'kosher', 'latin-american', 'lebanese', 'malaysian',\n",
       "                  'mediterranean', 'mexican', 'middle-eastern', 'moroccan',\n",
       "                  'nepalese', 'other', 'pakistani', 'pasta', 'persian',\n",
       "                  'peruvian', 'pizza', 'russian', 'salad', 'sandwich',\n",
       "                  'seafood', 'singaporean', 'smoothie', 'soup', 'southern',\n",
       "                  'spanish', 'steak', 'sushi', 'tapas', 'thai', 'turkish',\n",
       "                  'vegan', 'vegetarian', 'vietnamese'],\n",
       ", ordered=False)"
      ]
     },
     "execution_count": 19,
     "metadata": {},
     "output_type": "execute_result"
    }
   ],
   "source": [
    "_df['store_primary_category'] = _df['store_primary_category'].astype('category') \n",
    "_df['store_primary_category'].dtype"
   ]
  },
  {
   "cell_type": "markdown",
   "metadata": {},
   "source": [
    "<hr><br>\n",
    "\n",
    "##### **Inline Practice 3**  \n",
    "\n",
    "- `ordered_time`은 고객이 몇시에 주문을 하였는지를 담고 있는 Featrue이기 때문에   \n",
    "\n",
    "  수치형 데이터이지만 데이터의 특성 상 범주형 데이터에 속합니다.\n",
    "- `ordered_time`를 범주형 데이터로 바꿔주는 작업을 수행해봅시다.\n",
    "- 단, 데이터를 **구간 단위로 카테고리화** 해주는 메소드인 `hour_to_categorical`을 작성해주세요.\n",
    "  \n",
    "\n",
    "<br><hr>"
   ]
  },
  {
   "cell_type": "code",
   "execution_count": 20,
   "metadata": {},
   "outputs": [
    {
     "data": {
      "text/plain": [
       "array([22, 21,  0,  3,  2,  4, 23,  1,  5, 19, 20, 18,  6, 17, 16, 15, 14,\n",
       "        7,  8], dtype=int64)"
      ]
     },
     "execution_count": 20,
     "metadata": {},
     "output_type": "execute_result"
    }
   ],
   "source": [
    "_df.ordered_time.unique()"
   ]
  },
  {
   "cell_type": "code",
   "execution_count": 21,
   "metadata": {},
   "outputs": [],
   "source": [
    "def hour_to_categorical(df):\n",
    "\n",
    "    result = df.copy()\n",
    "\n",
    "    '''\n",
    "    hour_to_categorical method\n",
    "\n",
    "    night : (df.ordered_time >= 0 & df.ordered_time <= 6) | (df.ordered_time >= 21 & df.ordered_time <= 23)\n",
    "    evening : (df.ordered_time >= 17 & df.ordered_time <= 20)\n",
    "    afternoon : (df.ordered_time >= 12 & df.ordered_time <= 16)\n",
    "    morning : (df.ordered_time >= 7 & df.ordered_time <= 11)\n",
    "    '''\n",
    "    result.loc[(result['ordered_time'] >= 0) & (result['ordered_time'] <= 6), 'hour_to_categorical'] = 'night'\n",
    "    result.loc[(result['ordered_time'] >= 7) & (result['ordered_time'] <= 11), 'hour_to_categorical'] = 'morning'\n",
    "    result.loc[(result['ordered_time'] >= 12) & (result['ordered_time'] <= 16), 'hour_to_categorical'] = 'afternoon'\n",
    "    result.loc[(result['ordered_time'] >= 17) & (result['ordered_time'] <= 20), 'hour_to_categorical'] = 'evening'\n",
    "    result.loc[(result['ordered_time'] >= 21) & (result['ordered_time'] <= 23), 'hour_to_categorical'] = 'night'\n",
    "    \n",
    "    return result"
   ]
  },
  {
   "cell_type": "code",
   "execution_count": 22,
   "metadata": {},
   "outputs": [
    {
     "data": {
      "text/html": [
       "<div>\n",
       "<style scoped>\n",
       "    .dataframe tbody tr th:only-of-type {\n",
       "        vertical-align: middle;\n",
       "    }\n",
       "\n",
       "    .dataframe tbody tr th {\n",
       "        vertical-align: top;\n",
       "    }\n",
       "\n",
       "    .dataframe thead th {\n",
       "        text-align: right;\n",
       "    }\n",
       "</style>\n",
       "<table border=\"1\" class=\"dataframe\">\n",
       "  <thead>\n",
       "    <tr style=\"text-align: right;\">\n",
       "      <th></th>\n",
       "      <th>store_primary_category</th>\n",
       "      <th>total_items</th>\n",
       "      <th>subtotal</th>\n",
       "      <th>num_distinct_items</th>\n",
       "      <th>min_item_price</th>\n",
       "      <th>max_item_price</th>\n",
       "      <th>total_onshift</th>\n",
       "      <th>total_busy</th>\n",
       "      <th>total_outstanding_orders</th>\n",
       "      <th>estimated</th>\n",
       "      <th>delivery_time</th>\n",
       "      <th>ordered_time</th>\n",
       "      <th>hour_to_categorical</th>\n",
       "    </tr>\n",
       "  </thead>\n",
       "  <tbody>\n",
       "    <tr>\n",
       "      <th>0</th>\n",
       "      <td>american</td>\n",
       "      <td>4</td>\n",
       "      <td>3441</td>\n",
       "      <td>4</td>\n",
       "      <td>557</td>\n",
       "      <td>1239</td>\n",
       "      <td>33.0</td>\n",
       "      <td>14.0</td>\n",
       "      <td>21.0</td>\n",
       "      <td>1307.0</td>\n",
       "      <td>3779.0</td>\n",
       "      <td>22</td>\n",
       "      <td>night</td>\n",
       "    </tr>\n",
       "    <tr>\n",
       "      <th>1</th>\n",
       "      <td>mexican</td>\n",
       "      <td>1</td>\n",
       "      <td>1900</td>\n",
       "      <td>1</td>\n",
       "      <td>1400</td>\n",
       "      <td>1400</td>\n",
       "      <td>1.0</td>\n",
       "      <td>2.0</td>\n",
       "      <td>2.0</td>\n",
       "      <td>1136.0</td>\n",
       "      <td>4024.0</td>\n",
       "      <td>21</td>\n",
       "      <td>night</td>\n",
       "    </tr>\n",
       "    <tr>\n",
       "      <th>8</th>\n",
       "      <td>indian</td>\n",
       "      <td>4</td>\n",
       "      <td>4771</td>\n",
       "      <td>3</td>\n",
       "      <td>820</td>\n",
       "      <td>1604</td>\n",
       "      <td>8.0</td>\n",
       "      <td>6.0</td>\n",
       "      <td>18.0</td>\n",
       "      <td>735.0</td>\n",
       "      <td>1586.0</td>\n",
       "      <td>0</td>\n",
       "      <td>night</td>\n",
       "    </tr>\n",
       "    <tr>\n",
       "      <th>14</th>\n",
       "      <td>italian</td>\n",
       "      <td>1</td>\n",
       "      <td>1525</td>\n",
       "      <td>1</td>\n",
       "      <td>1525</td>\n",
       "      <td>1525</td>\n",
       "      <td>5.0</td>\n",
       "      <td>6.0</td>\n",
       "      <td>8.0</td>\n",
       "      <td>1241.0</td>\n",
       "      <td>2273.0</td>\n",
       "      <td>3</td>\n",
       "      <td>night</td>\n",
       "    </tr>\n",
       "    <tr>\n",
       "      <th>15</th>\n",
       "      <td>italian</td>\n",
       "      <td>2</td>\n",
       "      <td>3620</td>\n",
       "      <td>2</td>\n",
       "      <td>1425</td>\n",
       "      <td>2195</td>\n",
       "      <td>5.0</td>\n",
       "      <td>5.0</td>\n",
       "      <td>7.0</td>\n",
       "      <td>651.0</td>\n",
       "      <td>2988.0</td>\n",
       "      <td>2</td>\n",
       "      <td>night</td>\n",
       "    </tr>\n",
       "    <tr>\n",
       "      <th>...</th>\n",
       "      <td>...</td>\n",
       "      <td>...</td>\n",
       "      <td>...</td>\n",
       "      <td>...</td>\n",
       "      <td>...</td>\n",
       "      <td>...</td>\n",
       "      <td>...</td>\n",
       "      <td>...</td>\n",
       "      <td>...</td>\n",
       "      <td>...</td>\n",
       "      <td>...</td>\n",
       "      <td>...</td>\n",
       "      <td>...</td>\n",
       "    </tr>\n",
       "    <tr>\n",
       "      <th>197423</th>\n",
       "      <td>fast</td>\n",
       "      <td>3</td>\n",
       "      <td>1389</td>\n",
       "      <td>3</td>\n",
       "      <td>345</td>\n",
       "      <td>649</td>\n",
       "      <td>17.0</td>\n",
       "      <td>17.0</td>\n",
       "      <td>23.0</td>\n",
       "      <td>582.0</td>\n",
       "      <td>3907.0</td>\n",
       "      <td>0</td>\n",
       "      <td>night</td>\n",
       "    </tr>\n",
       "    <tr>\n",
       "      <th>197424</th>\n",
       "      <td>fast</td>\n",
       "      <td>6</td>\n",
       "      <td>3010</td>\n",
       "      <td>4</td>\n",
       "      <td>405</td>\n",
       "      <td>825</td>\n",
       "      <td>12.0</td>\n",
       "      <td>11.0</td>\n",
       "      <td>14.0</td>\n",
       "      <td>1166.0</td>\n",
       "      <td>3383.0</td>\n",
       "      <td>0</td>\n",
       "      <td>night</td>\n",
       "    </tr>\n",
       "    <tr>\n",
       "      <th>197425</th>\n",
       "      <td>fast</td>\n",
       "      <td>5</td>\n",
       "      <td>1836</td>\n",
       "      <td>3</td>\n",
       "      <td>300</td>\n",
       "      <td>399</td>\n",
       "      <td>39.0</td>\n",
       "      <td>41.0</td>\n",
       "      <td>40.0</td>\n",
       "      <td>1046.0</td>\n",
       "      <td>3008.0</td>\n",
       "      <td>4</td>\n",
       "      <td>night</td>\n",
       "    </tr>\n",
       "    <tr>\n",
       "      <th>197426</th>\n",
       "      <td>sandwich</td>\n",
       "      <td>1</td>\n",
       "      <td>1175</td>\n",
       "      <td>1</td>\n",
       "      <td>535</td>\n",
       "      <td>535</td>\n",
       "      <td>7.0</td>\n",
       "      <td>7.0</td>\n",
       "      <td>12.0</td>\n",
       "      <td>830.0</td>\n",
       "      <td>3907.0</td>\n",
       "      <td>18</td>\n",
       "      <td>evening</td>\n",
       "    </tr>\n",
       "    <tr>\n",
       "      <th>197427</th>\n",
       "      <td>sandwich</td>\n",
       "      <td>4</td>\n",
       "      <td>2605</td>\n",
       "      <td>4</td>\n",
       "      <td>425</td>\n",
       "      <td>750</td>\n",
       "      <td>20.0</td>\n",
       "      <td>20.0</td>\n",
       "      <td>23.0</td>\n",
       "      <td>580.0</td>\n",
       "      <td>2228.0</td>\n",
       "      <td>19</td>\n",
       "      <td>evening</td>\n",
       "    </tr>\n",
       "  </tbody>\n",
       "</table>\n",
       "<p>191407 rows × 13 columns</p>\n",
       "</div>"
      ],
      "text/plain": [
       "       store_primary_category  total_items  subtotal  num_distinct_items  \\\n",
       "0                    american            4      3441                   4   \n",
       "1                     mexican            1      1900                   1   \n",
       "8                      indian            4      4771                   3   \n",
       "14                    italian            1      1525                   1   \n",
       "15                    italian            2      3620                   2   \n",
       "...                       ...          ...       ...                 ...   \n",
       "197423                   fast            3      1389                   3   \n",
       "197424                   fast            6      3010                   4   \n",
       "197425                   fast            5      1836                   3   \n",
       "197426               sandwich            1      1175                   1   \n",
       "197427               sandwich            4      2605                   4   \n",
       "\n",
       "        min_item_price  max_item_price  total_onshift  total_busy  \\\n",
       "0                  557            1239           33.0        14.0   \n",
       "1                 1400            1400            1.0         2.0   \n",
       "8                  820            1604            8.0         6.0   \n",
       "14                1525            1525            5.0         6.0   \n",
       "15                1425            2195            5.0         5.0   \n",
       "...                ...             ...            ...         ...   \n",
       "197423             345             649           17.0        17.0   \n",
       "197424             405             825           12.0        11.0   \n",
       "197425             300             399           39.0        41.0   \n",
       "197426             535             535            7.0         7.0   \n",
       "197427             425             750           20.0        20.0   \n",
       "\n",
       "        total_outstanding_orders  estimated  delivery_time  ordered_time  \\\n",
       "0                           21.0     1307.0         3779.0            22   \n",
       "1                            2.0     1136.0         4024.0            21   \n",
       "8                           18.0      735.0         1586.0             0   \n",
       "14                           8.0     1241.0         2273.0             3   \n",
       "15                           7.0      651.0         2988.0             2   \n",
       "...                          ...        ...            ...           ...   \n",
       "197423                      23.0      582.0         3907.0             0   \n",
       "197424                      14.0     1166.0         3383.0             0   \n",
       "197425                      40.0     1046.0         3008.0             4   \n",
       "197426                      12.0      830.0         3907.0            18   \n",
       "197427                      23.0      580.0         2228.0            19   \n",
       "\n",
       "       hour_to_categorical  \n",
       "0                    night  \n",
       "1                    night  \n",
       "8                    night  \n",
       "14                   night  \n",
       "15                   night  \n",
       "...                    ...  \n",
       "197423               night  \n",
       "197424               night  \n",
       "197425               night  \n",
       "197426             evening  \n",
       "197427             evening  \n",
       "\n",
       "[191407 rows x 13 columns]"
      ]
     },
     "execution_count": 22,
     "metadata": {},
     "output_type": "execute_result"
    }
   ],
   "source": [
    "preprocessed_df = hour_to_categorical(_df)\n",
    "preprocessed_df"
   ]
  },
  {
   "cell_type": "code",
   "execution_count": 23,
   "metadata": {},
   "outputs": [
    {
     "name": "stdout",
     "output_type": "stream",
     "text": [
      "<class 'pandas.core.frame.DataFrame'>\n",
      "Int64Index: 191407 entries, 0 to 197427\n",
      "Data columns (total 13 columns):\n",
      " #   Column                    Non-Null Count   Dtype   \n",
      "---  ------                    --------------   -----   \n",
      " 0   store_primary_category    191407 non-null  category\n",
      " 1   total_items               191407 non-null  int64   \n",
      " 2   subtotal                  191407 non-null  int64   \n",
      " 3   num_distinct_items        191407 non-null  int64   \n",
      " 4   min_item_price            191407 non-null  int64   \n",
      " 5   max_item_price            191407 non-null  int64   \n",
      " 6   total_onshift             191407 non-null  float64 \n",
      " 7   total_busy                191407 non-null  float64 \n",
      " 8   total_outstanding_orders  191407 non-null  float64 \n",
      " 9   estimated                 191407 non-null  float64 \n",
      " 10  delivery_time             191407 non-null  float64 \n",
      " 11  ordered_time              191407 non-null  int64   \n",
      " 12  hour_to_categorical       191407 non-null  object  \n",
      "dtypes: category(1), float64(5), int64(6), object(1)\n",
      "memory usage: 19.2+ MB\n"
     ]
    }
   ],
   "source": [
    "preprocessed_df.info()"
   ]
  },
  {
   "cell_type": "markdown",
   "metadata": {},
   "source": [
    "<hr><br>\n",
    "\n",
    "##### **Inline Practice 4**  \n",
    "\n",
    "- 목표 변수인 `delivery_time`은 이상값을 가지고 있습니다.\n",
    "\n",
    "1. *단순 홀드아웃 검증*을 위해 기존 Data set를 `train_test_split()`메소드를 사용하여 `test_size=0.1`로 train, test로 나눠주세요.  \n",
    "2. 이상값을 제거하기 위해서 10% ~ 90% 사이의 행들만 사용하기 위한 코드를 작성해주세요.\n",
    "3. `pandas.Series.quntile()` 메소드를 사용하면 쉽게 해결할 수 있습니다.\n",
    "\n",
    "<br><hr>"
   ]
  },
  {
   "cell_type": "code",
   "execution_count": 24,
   "metadata": {},
   "outputs": [
    {
     "data": {
      "image/png": "[encoded data removed]",
      "text/plain": [
       "<Figure size 576x576 with 1 Axes>"
      ]
     },
     "metadata": {},
     "output_type": "display_data"
    }
   ],
   "source": [
    "plt.style.use('ggplot')\n",
    "plt.figure(figsize=(8, 8))\n",
    "plt.boxplot(preprocessed_df['delivery_time'])\n",
    "plt.show()"
   ]
  },
  {
   "cell_type": "code",
   "execution_count": 25,
   "metadata": {},
   "outputs": [],
   "source": [
    "from sklearn.model_selection import train_test_split\n",
    "\n",
    "train_df, test_df = train_test_split(preprocessed_df, test_size=0.1, random_state=0)"
   ]
  },
  {
   "cell_type": "code",
   "execution_count": 26,
   "metadata": {},
   "outputs": [],
   "source": [
    "quartile_1 = train_df['delivery_time'].quantile(0.10)\n",
    "quartile_3 = train_df['delivery_time'].quantile(0.90)\n",
    "\n",
    "train_df = train_df[(train_df['delivery_time'] >= quartile_1) & (train_df['delivery_time'] <= quartile_3)]"
   ]
  },
  {
   "cell_type": "code",
   "execution_count": 27,
   "metadata": {},
   "outputs": [
    {
     "data": {
      "image/png": "[encoded data removed]",
      "text/plain": [
       "<Figure size 576x576 with 1 Axes>"
      ]
     },
     "metadata": {},
     "output_type": "display_data"
    }
   ],
   "source": [
    "plt.figure(figsize=(8, 8))\n",
    "plt.boxplot(train_df['delivery_time'])\n",
    "plt.show()"
   ]
  },
  {
   "cell_type": "markdown",
   "metadata": {},
   "source": [
    "<hr><br>\n",
    "\n",
    "##### **Inline Practice 5**  \n",
    "\n",
    "- 이제 train set과 test set를 모두 준비하였으니 여러분이 사용하고 싶은 모델을 사용하여 학습시켜보세요.\n",
    "- Categorical Data를 어떻게 처리할 것인지도 잘 생각해보면서 문제를 풀어보세요.\n",
    "  \n",
    "\n",
    "- **여러분은 가능한 한 실제 배달 시간과 가까운 값을 예측하되 동시에 under-prediction을 최소화하셔야 합니다.**\n",
    "- RMSE를 1200 이하로, under-prediction을 0.6 이하로 만들어보세요.\n",
    "\n",
    "<br><hr>"
   ]
  },
  {
   "cell_type": "code",
   "execution_count": 28,
   "metadata": {},
   "outputs": [],
   "source": [
    "X_train = train_df.drop(['delivery_time'], axis=1)\n",
    "y_train = train_df['delivery_time']\n",
    "\n",
    "\n",
    "X_test = test_df.drop(['delivery_time'], axis=1)\n",
    "y_test = test_df['delivery_time']"
   ]
  },
  {
   "cell_type": "code",
   "execution_count": 29,
   "metadata": {},
   "outputs": [
    {
     "data": {
      "text/html": [
       "<div>\n",
       "<style scoped>\n",
       "    .dataframe tbody tr th:only-of-type {\n",
       "        vertical-align: middle;\n",
       "    }\n",
       "\n",
       "    .dataframe tbody tr th {\n",
       "        vertical-align: top;\n",
       "    }\n",
       "\n",
       "    .dataframe thead th {\n",
       "        text-align: right;\n",
       "    }\n",
       "</style>\n",
       "<table border=\"1\" class=\"dataframe\">\n",
       "  <thead>\n",
       "    <tr style=\"text-align: right;\">\n",
       "      <th></th>\n",
       "      <th>store_primary_category</th>\n",
       "      <th>total_items</th>\n",
       "      <th>subtotal</th>\n",
       "      <th>num_distinct_items</th>\n",
       "      <th>min_item_price</th>\n",
       "      <th>max_item_price</th>\n",
       "      <th>total_onshift</th>\n",
       "      <th>total_busy</th>\n",
       "      <th>total_outstanding_orders</th>\n",
       "      <th>estimated</th>\n",
       "      <th>delivery_time</th>\n",
       "      <th>ordered_time</th>\n",
       "      <th>hour_to_categorical</th>\n",
       "    </tr>\n",
       "  </thead>\n",
       "  <tbody>\n",
       "    <tr>\n",
       "      <th>92778</th>\n",
       "      <td>breakfast</td>\n",
       "      <td>2</td>\n",
       "      <td>1695</td>\n",
       "      <td>2</td>\n",
       "      <td>350</td>\n",
       "      <td>1295</td>\n",
       "      <td>114.0</td>\n",
       "      <td>52.0</td>\n",
       "      <td>87.0</td>\n",
       "      <td>421.0</td>\n",
       "      <td>1840.0</td>\n",
       "      <td>1</td>\n",
       "      <td>night</td>\n",
       "    </tr>\n",
       "    <tr>\n",
       "      <th>42685</th>\n",
       "      <td>gluten-free</td>\n",
       "      <td>6</td>\n",
       "      <td>2585</td>\n",
       "      <td>6</td>\n",
       "      <td>0</td>\n",
       "      <td>895</td>\n",
       "      <td>20.0</td>\n",
       "      <td>13.0</td>\n",
       "      <td>12.0</td>\n",
       "      <td>654.0</td>\n",
       "      <td>2392.0</td>\n",
       "      <td>1</td>\n",
       "      <td>night</td>\n",
       "    </tr>\n",
       "    <tr>\n",
       "      <th>161954</th>\n",
       "      <td>burger</td>\n",
       "      <td>3</td>\n",
       "      <td>1507</td>\n",
       "      <td>2</td>\n",
       "      <td>249</td>\n",
       "      <td>629</td>\n",
       "      <td>72.0</td>\n",
       "      <td>64.0</td>\n",
       "      <td>94.0</td>\n",
       "      <td>933.0</td>\n",
       "      <td>4100.0</td>\n",
       "      <td>2</td>\n",
       "      <td>night</td>\n",
       "    </tr>\n",
       "    <tr>\n",
       "      <th>136938</th>\n",
       "      <td>pizza</td>\n",
       "      <td>5</td>\n",
       "      <td>3483</td>\n",
       "      <td>5</td>\n",
       "      <td>479</td>\n",
       "      <td>1079</td>\n",
       "      <td>62.0</td>\n",
       "      <td>65.0</td>\n",
       "      <td>90.0</td>\n",
       "      <td>1063.0</td>\n",
       "      <td>3660.0</td>\n",
       "      <td>3</td>\n",
       "      <td>night</td>\n",
       "    </tr>\n",
       "    <tr>\n",
       "      <th>37508</th>\n",
       "      <td>other</td>\n",
       "      <td>20</td>\n",
       "      <td>8456</td>\n",
       "      <td>5</td>\n",
       "      <td>109</td>\n",
       "      <td>999</td>\n",
       "      <td>57.0</td>\n",
       "      <td>57.0</td>\n",
       "      <td>81.0</td>\n",
       "      <td>690.0</td>\n",
       "      <td>2748.0</td>\n",
       "      <td>19</td>\n",
       "      <td>evening</td>\n",
       "    </tr>\n",
       "  </tbody>\n",
       "</table>\n",
       "</div>"
      ],
      "text/plain": [
       "       store_primary_category  total_items  subtotal  num_distinct_items  \\\n",
       "92778               breakfast            2      1695                   2   \n",
       "42685             gluten-free            6      2585                   6   \n",
       "161954                 burger            3      1507                   2   \n",
       "136938                  pizza            5      3483                   5   \n",
       "37508                   other           20      8456                   5   \n",
       "\n",
       "        min_item_price  max_item_price  total_onshift  total_busy  \\\n",
       "92778              350            1295          114.0        52.0   \n",
       "42685                0             895           20.0        13.0   \n",
       "161954             249             629           72.0        64.0   \n",
       "136938             479            1079           62.0        65.0   \n",
       "37508              109             999           57.0        57.0   \n",
       "\n",
       "        total_outstanding_orders  estimated  delivery_time  ordered_time  \\\n",
       "92778                       87.0      421.0         1840.0             1   \n",
       "42685                       12.0      654.0         2392.0             1   \n",
       "161954                      94.0      933.0         4100.0             2   \n",
       "136938                      90.0     1063.0         3660.0             3   \n",
       "37508                       81.0      690.0         2748.0            19   \n",
       "\n",
       "       hour_to_categorical  \n",
       "92778                night  \n",
       "42685                night  \n",
       "161954               night  \n",
       "136938               night  \n",
       "37508              evening  "
      ]
     },
     "execution_count": 29,
     "metadata": {},
     "output_type": "execute_result"
    }
   ],
   "source": [
    "train_df.head()"
   ]
  },
  {
   "cell_type": "code",
   "execution_count": 30,
   "metadata": {},
   "outputs": [],
   "source": [
    "train_df_dummies = pd.get_dummies(train_df)\n",
    "test_df_dummies = pd.get_dummies(test_df)"
   ]
  },
  {
   "cell_type": "code",
   "execution_count": 32,
   "metadata": {},
   "outputs": [],
   "source": [
    "train_df_dummies = train_df_dummies.astype({'delivery_time': 'int'})\n",
    "test_df_dummies = test_df_dummies.astype({'delivery_time': 'int'})\n",
    "\n",
    "X_train = train_df_dummies.drop(['delivery_time'], axis=1)\n",
    "y_train = train_df_dummies['delivery_time']\n",
    "\n",
    "\n",
    "X_test = test_df_dummies.drop(['delivery_time'], axis=1)\n",
    "y_test = test_df_dummies['delivery_time']"
   ]
  },
  {
   "cell_type": "code",
   "execution_count": 33,
   "metadata": {},
   "outputs": [
    {
     "data": {
      "text/html": [
       "<div>\n",
       "<style scoped>\n",
       "    .dataframe tbody tr th:only-of-type {\n",
       "        vertical-align: middle;\n",
       "    }\n",
       "\n",
       "    .dataframe tbody tr th {\n",
       "        vertical-align: top;\n",
       "    }\n",
       "\n",
       "    .dataframe thead th {\n",
       "        text-align: right;\n",
       "    }\n",
       "</style>\n",
       "<table border=\"1\" class=\"dataframe\">\n",
       "  <thead>\n",
       "    <tr style=\"text-align: right;\">\n",
       "      <th></th>\n",
       "      <th>subtotal</th>\n",
       "      <th>num_distinct_items</th>\n",
       "      <th>min_item_price</th>\n",
       "      <th>max_item_price</th>\n",
       "      <th>total_onshift</th>\n",
       "      <th>total_busy</th>\n",
       "      <th>total_outstanding_orders</th>\n",
       "      <th>estimated</th>\n",
       "      <th>ordered_time</th>\n",
       "      <th>store_primary_category_afghan</th>\n",
       "      <th>...</th>\n",
       "      <th>store_primary_category_tapas</th>\n",
       "      <th>store_primary_category_thai</th>\n",
       "      <th>store_primary_category_turkish</th>\n",
       "      <th>store_primary_category_vegan</th>\n",
       "      <th>store_primary_category_vegetarian</th>\n",
       "      <th>store_primary_category_vietnamese</th>\n",
       "      <th>hour_to_categorical_afternoon</th>\n",
       "      <th>hour_to_categorical_evening</th>\n",
       "      <th>hour_to_categorical_morning</th>\n",
       "      <th>hour_to_categorical_night</th>\n",
       "    </tr>\n",
       "  </thead>\n",
       "  <tbody>\n",
       "    <tr>\n",
       "      <th>92778</th>\n",
       "      <td>1695</td>\n",
       "      <td>2</td>\n",
       "      <td>350</td>\n",
       "      <td>1295</td>\n",
       "      <td>114.0</td>\n",
       "      <td>52.0</td>\n",
       "      <td>87.0</td>\n",
       "      <td>421.0</td>\n",
       "      <td>1</td>\n",
       "      <td>0</td>\n",
       "      <td>...</td>\n",
       "      <td>0</td>\n",
       "      <td>0</td>\n",
       "      <td>0</td>\n",
       "      <td>0</td>\n",
       "      <td>0</td>\n",
       "      <td>0</td>\n",
       "      <td>0</td>\n",
       "      <td>0</td>\n",
       "      <td>0</td>\n",
       "      <td>1</td>\n",
       "    </tr>\n",
       "    <tr>\n",
       "      <th>42685</th>\n",
       "      <td>2585</td>\n",
       "      <td>6</td>\n",
       "      <td>0</td>\n",
       "      <td>895</td>\n",
       "      <td>20.0</td>\n",
       "      <td>13.0</td>\n",
       "      <td>12.0</td>\n",
       "      <td>654.0</td>\n",
       "      <td>1</td>\n",
       "      <td>0</td>\n",
       "      <td>...</td>\n",
       "      <td>0</td>\n",
       "      <td>0</td>\n",
       "      <td>0</td>\n",
       "      <td>0</td>\n",
       "      <td>0</td>\n",
       "      <td>0</td>\n",
       "      <td>0</td>\n",
       "      <td>0</td>\n",
       "      <td>0</td>\n",
       "      <td>1</td>\n",
       "    </tr>\n",
       "    <tr>\n",
       "      <th>161954</th>\n",
       "      <td>1507</td>\n",
       "      <td>2</td>\n",
       "      <td>249</td>\n",
       "      <td>629</td>\n",
       "      <td>72.0</td>\n",
       "      <td>64.0</td>\n",
       "      <td>94.0</td>\n",
       "      <td>933.0</td>\n",
       "      <td>2</td>\n",
       "      <td>0</td>\n",
       "      <td>...</td>\n",
       "      <td>0</td>\n",
       "      <td>0</td>\n",
       "      <td>0</td>\n",
       "      <td>0</td>\n",
       "      <td>0</td>\n",
       "      <td>0</td>\n",
       "      <td>0</td>\n",
       "      <td>0</td>\n",
       "      <td>0</td>\n",
       "      <td>1</td>\n",
       "    </tr>\n",
       "    <tr>\n",
       "      <th>136938</th>\n",
       "      <td>3483</td>\n",
       "      <td>5</td>\n",
       "      <td>479</td>\n",
       "      <td>1079</td>\n",
       "      <td>62.0</td>\n",
       "      <td>65.0</td>\n",
       "      <td>90.0</td>\n",
       "      <td>1063.0</td>\n",
       "      <td>3</td>\n",
       "      <td>0</td>\n",
       "      <td>...</td>\n",
       "      <td>0</td>\n",
       "      <td>0</td>\n",
       "      <td>0</td>\n",
       "      <td>0</td>\n",
       "      <td>0</td>\n",
       "      <td>0</td>\n",
       "      <td>0</td>\n",
       "      <td>0</td>\n",
       "      <td>0</td>\n",
       "      <td>1</td>\n",
       "    </tr>\n",
       "    <tr>\n",
       "      <th>37508</th>\n",
       "      <td>8456</td>\n",
       "      <td>5</td>\n",
       "      <td>109</td>\n",
       "      <td>999</td>\n",
       "      <td>57.0</td>\n",
       "      <td>57.0</td>\n",
       "      <td>81.0</td>\n",
       "      <td>690.0</td>\n",
       "      <td>19</td>\n",
       "      <td>0</td>\n",
       "      <td>...</td>\n",
       "      <td>0</td>\n",
       "      <td>0</td>\n",
       "      <td>0</td>\n",
       "      <td>0</td>\n",
       "      <td>0</td>\n",
       "      <td>0</td>\n",
       "      <td>0</td>\n",
       "      <td>1</td>\n",
       "      <td>0</td>\n",
       "      <td>0</td>\n",
       "    </tr>\n",
       "  </tbody>\n",
       "</table>\n",
       "<p>5 rows × 87 columns</p>\n",
       "</div>"
      ],
      "text/plain": [
       "        subtotal  num_distinct_items  min_item_price  max_item_price  \\\n",
       "92778       1695                   2             350            1295   \n",
       "42685       2585                   6               0             895   \n",
       "161954      1507                   2             249             629   \n",
       "136938      3483                   5             479            1079   \n",
       "37508       8456                   5             109             999   \n",
       "\n",
       "        total_onshift  total_busy  total_outstanding_orders  estimated  \\\n",
       "92778           114.0        52.0                      87.0      421.0   \n",
       "42685            20.0        13.0                      12.0      654.0   \n",
       "161954           72.0        64.0                      94.0      933.0   \n",
       "136938           62.0        65.0                      90.0     1063.0   \n",
       "37508            57.0        57.0                      81.0      690.0   \n",
       "\n",
       "        ordered_time  store_primary_category_afghan  ...  \\\n",
       "92778              1                              0  ...   \n",
       "42685              1                              0  ...   \n",
       "161954             2                              0  ...   \n",
       "136938             3                              0  ...   \n",
       "37508             19                              0  ...   \n",
       "\n",
       "        store_primary_category_tapas  store_primary_category_thai  \\\n",
       "92778                              0                            0   \n",
       "42685                              0                            0   \n",
       "161954                             0                            0   \n",
       "136938                             0                            0   \n",
       "37508                              0                            0   \n",
       "\n",
       "        store_primary_category_turkish  store_primary_category_vegan  \\\n",
       "92778                                0                             0   \n",
       "42685                                0                             0   \n",
       "161954                               0                             0   \n",
       "136938                               0                             0   \n",
       "37508                                0                             0   \n",
       "\n",
       "        store_primary_category_vegetarian  store_primary_category_vietnamese  \\\n",
       "92778                                   0                                  0   \n",
       "42685                                   0                                  0   \n",
       "161954                                  0                                  0   \n",
       "136938                                  0                                  0   \n",
       "37508                                   0                                  0   \n",
       "\n",
       "        hour_to_categorical_afternoon  hour_to_categorical_evening  \\\n",
       "92778                               0                            0   \n",
       "42685                               0                            0   \n",
       "161954                              0                            0   \n",
       "136938                              0                            0   \n",
       "37508                               0                            1   \n",
       "\n",
       "        hour_to_categorical_morning  hour_to_categorical_night  \n",
       "92778                             0                          1  \n",
       "42685                             0                          1  \n",
       "161954                            0                          1  \n",
       "136938                            0                          1  \n",
       "37508                             0                          0  \n",
       "\n",
       "[5 rows x 87 columns]"
      ]
     },
     "execution_count": 33,
     "metadata": {},
     "output_type": "execute_result"
    }
   ],
   "source": [
    "X_train.head()"
   ]
  },
  {
   "cell_type": "code",
   "execution_count": 34,
   "metadata": {},
   "outputs": [],
   "source": [
    "from sklearn.tree import DecisionTreeClassifier  # 다른 decisiontree로 사용해봐도 됨 (어떤 것이 성능이 더 좋을지)\n",
    "\n",
    "# 의사결정나무 모델링\n",
    "DT_MODEL = DecisionTreeClassifier(random_state=0)\n",
    "DT_MODEL.fit(X_train, y_train)\n",
    "\n",
    "# 예측\n",
    "prediction = DT_MODEL.predict(X_test)  # test data의 y^hat (예측값)"
   ]
  },
  {
   "cell_type": "code",
   "execution_count": 38,
   "metadata": {},
   "outputs": [
    {
     "data": {
      "text/plain": [
       "1214.1285473376865"
      ]
     },
     "execution_count": 38,
     "metadata": {},
     "output_type": "execute_result"
    }
   ],
   "source": [
    "from math import sqrt\n",
    "from sklearn.metrics import mean_squared_error\n",
    "\n",
    "rmse = sqrt(mean_squared_error(y_test, prediction))\n",
    "rmse"
   ]
  },
  {
   "cell_type": "code",
   "execution_count": 42,
   "metadata": {},
   "outputs": [
    {
     "name": "stdout",
     "output_type": "stream",
     "text": [
      "0.49882451282587115\n"
     ]
    }
   ],
   "source": [
    "def under_pred(y_test, prediction):\n",
    "    return sum(prediction < y_test) / len(y_test)\n",
    "\n",
    "print(under_pred(y_test, prediction))"
   ]
  },
  {
   "cell_type": "markdown",
   "metadata": {},
   "source": [
    "lightgbm => 10만개 넘을 때, 범주형의 데이터를 알아서 잘 처리해주는 모델 (어느정도 수치형 데이터 있으면)"
   ]
  },
  {
   "cell_type": "code",
   "execution_count": 43,
   "metadata": {},
   "outputs": [],
   "source": [
    "import lightgbm as lgb\n",
    "\n",
    "model = lgb.LGBMRegressor()\n",
    "\n",
    "model.fit(X_train, y_train)\n",
    "prediction = model.predict(X_test)"
   ]
  },
  {
   "cell_type": "code",
   "execution_count": 44,
   "metadata": {},
   "outputs": [
    {
     "data": {
      "text/plain": [
       "1025.0964973528219"
      ]
     },
     "execution_count": 44,
     "metadata": {},
     "output_type": "execute_result"
    }
   ],
   "source": [
    "rmse = sqrt(mean_squared_error(y_test, prediction))\n",
    "rmse"
   ]
  },
  {
   "cell_type": "code",
   "execution_count": 45,
   "metadata": {},
   "outputs": [
    {
     "name": "stdout",
     "output_type": "stream",
     "text": [
      "0.46131341100255996\n"
     ]
    }
   ],
   "source": [
    "print(under_pred(y_test, prediction))"
   ]
  },
  {
   "cell_type": "code",
   "execution_count": 54,
   "metadata": {},
   "outputs": [],
   "source": [
    "from xgboost import XGBClassifier\n",
    "import xgboost\n",
    "\n",
    "model = xgboost.XGBRegressor()\n",
    "\n",
    "model.fit(X_train, y_train)\n",
    "prediction = model.predict(X_test)"
   ]
  },
  {
   "cell_type": "code",
   "execution_count": 55,
   "metadata": {},
   "outputs": [
    {
     "data": {
      "text/plain": [
       "1016.3905745148156"
      ]
     },
     "execution_count": 55,
     "metadata": {},
     "output_type": "execute_result"
    }
   ],
   "source": [
    "rmse = sqrt(mean_squared_error(y_test, prediction))\n",
    "rmse"
   ]
  },
  {
   "cell_type": "code",
   "execution_count": 56,
   "metadata": {},
   "outputs": [
    {
     "name": "stdout",
     "output_type": "stream",
     "text": [
      "0.4628807272347317\n"
     ]
    }
   ],
   "source": [
    "print(under_pred(y_test, prediction))"
   ]
  }
 ],
 "metadata": {
  "interpreter": {
   "hash": "903d8ae81368e5aefc45693c527f9d205862d7c55367571801a7182204c40b1e"
  },
  "kernelspec": {
   "display_name": "Python 3.9.0 64-bit",
   "language": "python",
   "name": "python3"
  },
  "language_info": {
   "codemirror_mode": {
    "name": "ipython",
    "version": 3
   },
   "file_extension": ".py",
   "mimetype": "text/x-python",
   "name": "python",
   "nbconvert_exporter": "python",
   "pygments_lexer": "ipython3",
   "version": "3.9.0"
  }
 },
 "nbformat": 4,
 "nbformat_minor": 4
}
