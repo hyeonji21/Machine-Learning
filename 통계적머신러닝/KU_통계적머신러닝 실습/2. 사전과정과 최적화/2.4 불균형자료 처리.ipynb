{
 "cells": [
  {
   "cell_type": "code",
   "execution_count": null,
   "metadata": {},
   "outputs": [],
   "source": [
    "# 과소표집(undersampling) : 다수클래스의 표본을 임의로 학습데이터로부터 제거하는 것\n",
    "# 과대표집(oversampling) : 소수클래스의 표본을 복제하여 이를 학습데이터에 추가하는 것\n",
    "#  : 합성소수표집법(SMOTE), 조절합성표집법(ADASYN)"
   ]
  },
  {
   "cell_type": "code",
   "execution_count": 2,
   "metadata": {},
   "outputs": [
    {
     "name": "stdout",
     "output_type": "stream",
     "text": [
      "Collecting imblearn\n",
      "  Downloading imblearn-0.0-py2.py3-none-any.whl (1.9 kB)\n",
      "Collecting imbalanced-learn\n",
      "  Using cached imbalanced_learn-0.9.0-py3-none-any.whl (199 kB)\n",
      "Requirement already satisfied: threadpoolctl>=2.0.0 in c:\\programdata\\anaconda3\\lib\\site-packages (from imbalanced-learn->imblearn) (2.1.0)\n",
      "Requirement already satisfied: scikit-learn>=1.0.1 in c:\\programdata\\anaconda3\\lib\\site-packages (from imbalanced-learn->imblearn) (1.0.2)\n",
      "Requirement already satisfied: scipy>=1.1.0 in c:\\programdata\\anaconda3\\lib\\site-packages (from imbalanced-learn->imblearn) (1.5.0)\n",
      "Requirement already satisfied: numpy>=1.14.6 in c:\\programdata\\anaconda3\\lib\\site-packages (from imbalanced-learn->imblearn) (1.19.5)\n",
      "Requirement already satisfied: joblib>=0.11 in c:\\programdata\\anaconda3\\lib\\site-packages (from imbalanced-learn->imblearn) (0.16.0)\n",
      "Installing collected packages: imbalanced-learn, imblearn\n",
      "Successfully installed imbalanced-learn-0.9.0 imblearn-0.0\n"
     ]
    }
   ],
   "source": [
    "!pip3 install imblearn"
   ]
  },
  {
   "cell_type": "code",
   "execution_count": 4,
   "metadata": {},
   "outputs": [
    {
     "name": "stdout",
     "output_type": "stream",
     "text": [
      "Original dataset shape Counter({2: 1795, 1: 141, 0: 64})\n"
     ]
    }
   ],
   "source": [
    "from collections import Counter\n",
    "from sklearn.datasets import make_classification\n",
    "from imblearn.over_sampling import SMOTE, ADASYN\n",
    "X, y = make_classification(n_classes=3, weights=[0.03, 0.07, 0.9], n_features=10,\n",
    "                          n_clusters_per_class=1, n_samples=2000, random_state=10)\n",
    "# 범주 : 3개 / weights 비율 : 0.03, 0.07, 0.9 / feature 변수 10개 / 군집 1개\n",
    "\n",
    "print('Original dataset shape %s' % Counter(y))"
   ]
  },
  {
   "cell_type": "code",
   "execution_count": 5,
   "metadata": {},
   "outputs": [
    {
     "name": "stdout",
     "output_type": "stream",
     "text": [
      "[[ 0.3514143   1.0784244   0.41164208 ...  0.21419258  0.31386263\n",
      "   0.32765292]\n",
      " [ 1.40300782 -0.14918607 -0.09023922 ... -1.22889257  0.25329288\n",
      "  -1.76341998]\n",
      " [ 1.62674704 -0.19355093  0.1237942  ... -0.11109046 -0.09628684\n",
      "  -0.12126431]\n",
      " ...\n",
      " [-0.15467803 -1.10346174 -0.32054757 ...  1.09617038 -0.38698558\n",
      "  -1.1022123 ]\n",
      " [ 0.92451609  0.36833119  0.7770703  ...  0.25144097  1.73839749\n",
      "   1.18408669]\n",
      " [ 0.20453898  1.23421226 -1.2812204  ... -0.25764099 -0.54688865\n",
      "   1.97771034]]\n"
     ]
    }
   ],
   "source": [
    "print(X)"
   ]
  },
  {
   "cell_type": "code",
   "execution_count": 6,
   "metadata": {},
   "outputs": [
    {
     "name": "stdout",
     "output_type": "stream",
     "text": [
      "[2 2 2 ... 1 2 2]\n"
     ]
    }
   ],
   "source": [
    "print(y)"
   ]
  },
  {
   "cell_type": "code",
   "execution_count": 7,
   "metadata": {},
   "outputs": [
    {
     "name": "stdout",
     "output_type": "stream",
     "text": [
      "Resampled dataset shape Counter({2: 1795, 1: 1795, 0: 1795})\n"
     ]
    }
   ],
   "source": [
    "sm = SMOTE(random_state=42) #람다\n",
    "X_res, y_res = sm.fit_resample(X, y)\n",
    "print('Resampled dataset shape %s' % Counter(y_res))"
   ]
  },
  {
   "cell_type": "code",
   "execution_count": 8,
   "metadata": {},
   "outputs": [
    {
     "name": "stdout",
     "output_type": "stream",
     "text": [
      "Resampled dataset shape from ADASYN Counter({1: 1805, 2: 1795, 0: 1795})\n"
     ]
    }
   ],
   "source": [
    "ada = ADASYN(random_state=0)\n",
    "X_syn, y_syn = ada.fit_resample(X, y)\n",
    "print('Resampled dataset shape from ADASYN %s' % Counter(y_syn))"
   ]
  }
 ],
 "metadata": {
  "kernelspec": {
   "display_name": "Python 3",
   "language": "python",
   "name": "python3"
  },
  "language_info": {
   "codemirror_mode": {
    "name": "ipython",
    "version": 3
   },
   "file_extension": ".py",
   "mimetype": "text/x-python",
   "name": "python",
   "nbconvert_exporter": "python",
   "pygments_lexer": "ipython3",
   "version": "3.8.3"
  }
 },
 "nbformat": 4,
 "nbformat_minor": 4
}
