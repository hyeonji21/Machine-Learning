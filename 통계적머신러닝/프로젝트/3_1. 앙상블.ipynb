{
 "cells": [
  {
   "cell_type": "code",
   "execution_count": 1,
   "id": "bb46be01-4030-4e2d-be73-5d8643c3f34f",
   "metadata": {},
   "outputs": [],
   "source": [
    "import pandas as pd\n",
    "import numpy as np\n",
    "\n",
    "df = pd.read_csv(\"C:/Users/0105l/Desktop/고려대학교/대학교/3학년 1학기/통계적머신러닝 PBL/팀프로젝트/data/loan_final_data.csv\")"
   ]
  },
  {
   "cell_type": "code",
   "execution_count": 2,
   "id": "bb58238e-3094-4b07-8792-3192762cc408",
   "metadata": {},
   "outputs": [],
   "source": [
    "X = df.drop([\"Loan_Status\"], axis=1)\n",
    "y = df[\"Loan_Status\"]"
   ]
  },
  {
   "cell_type": "code",
   "execution_count": 3,
   "id": "4fbf09cd-923a-4a83-b646-e24724fe48e2",
   "metadata": {},
   "outputs": [
    {
     "data": {
      "text/plain": [
       "(246, 10)"
      ]
     },
     "execution_count": 3,
     "metadata": {},
     "output_type": "execute_result"
    }
   ],
   "source": [
    "df.shape"
   ]
  },
  {
   "cell_type": "code",
   "execution_count": 4,
   "id": "376ec8e0-0167-4576-9b97-efb24f49aaf2",
   "metadata": {},
   "outputs": [],
   "source": [
    "from sklearn.model_selection import train_test_split\n",
    "X_train, X_test, y_train, y_test = train_test_split(X, y, test_size=0.3, random_state=1, stratify=y)"
   ]
  },
  {
   "cell_type": "code",
   "execution_count": 5,
   "id": "38e1e98c-1121-48a6-a237-4eeadb1c011c",
   "metadata": {},
   "outputs": [
    {
     "data": {
      "text/html": [
       "<div>\n",
       "<style scoped>\n",
       "    .dataframe tbody tr th:only-of-type {\n",
       "        vertical-align: middle;\n",
       "    }\n",
       "\n",
       "    .dataframe tbody tr th {\n",
       "        vertical-align: top;\n",
       "    }\n",
       "\n",
       "    .dataframe thead th {\n",
       "        text-align: right;\n",
       "    }\n",
       "</style>\n",
       "<table border=\"1\" class=\"dataframe\">\n",
       "  <thead>\n",
       "    <tr style=\"text-align: right;\">\n",
       "      <th></th>\n",
       "      <th>Gender</th>\n",
       "      <th>Married</th>\n",
       "      <th>Dependents</th>\n",
       "      <th>Education</th>\n",
       "      <th>Self_Employed</th>\n",
       "      <th>CoapplicantIncome</th>\n",
       "      <th>LoanAmount</th>\n",
       "      <th>Loan_Amount_Term</th>\n",
       "      <th>Property_Area</th>\n",
       "      <th>Loan_Status</th>\n",
       "    </tr>\n",
       "  </thead>\n",
       "  <tbody>\n",
       "    <tr>\n",
       "      <th>0</th>\n",
       "      <td>1</td>\n",
       "      <td>0</td>\n",
       "      <td>0</td>\n",
       "      <td>0</td>\n",
       "      <td>0</td>\n",
       "      <td>0.0</td>\n",
       "      <td>146.412162</td>\n",
       "      <td>360.0</td>\n",
       "      <td>2</td>\n",
       "      <td>1</td>\n",
       "    </tr>\n",
       "    <tr>\n",
       "      <th>1</th>\n",
       "      <td>1</td>\n",
       "      <td>1</td>\n",
       "      <td>1</td>\n",
       "      <td>0</td>\n",
       "      <td>0</td>\n",
       "      <td>1508.0</td>\n",
       "      <td>128.000000</td>\n",
       "      <td>360.0</td>\n",
       "      <td>0</td>\n",
       "      <td>0</td>\n",
       "    </tr>\n",
       "    <tr>\n",
       "      <th>2</th>\n",
       "      <td>1</td>\n",
       "      <td>0</td>\n",
       "      <td>0</td>\n",
       "      <td>0</td>\n",
       "      <td>0</td>\n",
       "      <td>0.0</td>\n",
       "      <td>141.000000</td>\n",
       "      <td>360.0</td>\n",
       "      <td>2</td>\n",
       "      <td>1</td>\n",
       "    </tr>\n",
       "    <tr>\n",
       "      <th>3</th>\n",
       "      <td>1</td>\n",
       "      <td>1</td>\n",
       "      <td>2</td>\n",
       "      <td>0</td>\n",
       "      <td>0</td>\n",
       "      <td>1526.0</td>\n",
       "      <td>168.000000</td>\n",
       "      <td>360.0</td>\n",
       "      <td>2</td>\n",
       "      <td>1</td>\n",
       "    </tr>\n",
       "    <tr>\n",
       "      <th>4</th>\n",
       "      <td>1</td>\n",
       "      <td>1</td>\n",
       "      <td>2</td>\n",
       "      <td>0</td>\n",
       "      <td>0</td>\n",
       "      <td>700.0</td>\n",
       "      <td>70.000000</td>\n",
       "      <td>360.0</td>\n",
       "      <td>2</td>\n",
       "      <td>1</td>\n",
       "    </tr>\n",
       "  </tbody>\n",
       "</table>\n",
       "</div>"
      ],
      "text/plain": [
       "   Gender  Married  Dependents  Education  Self_Employed  CoapplicantIncome  \\\n",
       "0       1        0           0          0              0                0.0   \n",
       "1       1        1           1          0              0             1508.0   \n",
       "2       1        0           0          0              0                0.0   \n",
       "3       1        1           2          0              0             1526.0   \n",
       "4       1        1           2          0              0              700.0   \n",
       "\n",
       "   LoanAmount  Loan_Amount_Term  Property_Area  Loan_Status  \n",
       "0  146.412162             360.0              2            1  \n",
       "1  128.000000             360.0              0            0  \n",
       "2  141.000000             360.0              2            1  \n",
       "3  168.000000             360.0              2            1  \n",
       "4   70.000000             360.0              2            1  "
      ]
     },
     "execution_count": 5,
     "metadata": {},
     "output_type": "execute_result"
    }
   ],
   "source": [
    "df.head()"
   ]
  },
  {
   "cell_type": "code",
   "execution_count": 6,
   "id": "69bf1cd0-cc93-42fd-baae-d17cfb19f250",
   "metadata": {},
   "outputs": [
    {
     "data": {
      "text/plain": [
       "1    181\n",
       "0     65\n",
       "Name: Loan_Status, dtype: int64"
      ]
     },
     "execution_count": 6,
     "metadata": {},
     "output_type": "execute_result"
    }
   ],
   "source": [
    "df['Loan_Status'].value_counts()"
   ]
  },
  {
   "cell_type": "code",
   "execution_count": 8,
   "id": "8cdef23b-d8d8-40e8-a102-89430fea38f8",
   "metadata": {},
   "outputs": [],
   "source": [
    "# 모델링"
   ]
  },
  {
   "cell_type": "code",
   "execution_count": null,
   "id": "88064321-bd45-457e-93ab-12e81f93faf0",
   "metadata": {},
   "outputs": [],
   "source": [
    "# 배깅 - 의사결정나무"
   ]
  },
  {
   "cell_type": "code",
   "execution_count": 8,
   "id": "2aa736ce-6ea7-4a85-a403-0433da950e83",
   "metadata": {},
   "outputs": [],
   "source": [
    "from sklearn.ensemble import BaggingClassifier\n",
    "from sklearn.tree import DecisionTreeClassifier\n",
    "from sklearn.metrics import accuracy_score"
   ]
  },
  {
   "cell_type": "code",
   "execution_count": 43,
   "id": "5952b4a2",
   "metadata": {},
   "outputs": [
    {
     "name": "stdout",
     "output_type": "stream",
     "text": [
      "0.8023255813953488\n",
      "0.6216216216216216\n"
     ]
    }
   ],
   "source": [
    "bag_cl = BaggingClassifier(DecisionTreeClassifier(), n_estimators=5,max_samples=0.3, bootstrap=True, random_state=1)\n",
    "\n",
    "bag_cl.fit(X_train, y_train)\n",
    "y_train_pred=bag_cl.predict(X_train)\n",
    "y_test_pred=bag_cl.predict(X_test)\n",
    "\n",
    "print(accuracy_score(y_train, y_train_pred))\n",
    "print(accuracy_score(y_test, y_test_pred))"
   ]
  },
  {
   "cell_type": "code",
   "execution_count": 44,
   "id": "84c2ef6d-8013-4995-b5b5-1f585c088067",
   "metadata": {},
   "outputs": [
    {
     "name": "stdout",
     "output_type": "stream",
     "text": [
      "0.813953488372093\n",
      "0.6351351351351351\n"
     ]
    }
   ],
   "source": [
    "bag_cl = BaggingClassifier(DecisionTreeClassifier(), n_estimators=10, max_samples=0.3, bootstrap=True, random_state=1)\n",
    "\n",
    "bag_cl.fit(X_train, y_train)\n",
    "y_train_pred=bag_cl.predict(X_train)\n",
    "y_test_pred=bag_cl.predict(X_test)\n",
    "\n",
    "print(accuracy_score(y_train, y_train_pred))\n",
    "print(accuracy_score(y_test, y_test_pred))"
   ]
  },
  {
   "cell_type": "code",
   "execution_count": 24,
   "id": "81de9086-2318-430f-b1ca-2761df1d703d",
   "metadata": {},
   "outputs": [
    {
     "name": "stdout",
     "output_type": "stream",
     "text": [
      "0.8255813953488372\n",
      "0.6351351351351351\n"
     ]
    }
   ],
   "source": [
    "bag_cl = BaggingClassifier(DecisionTreeClassifier(), n_estimators=20, max_samples=0.3, bootstrap=True, random_state=1)\n",
    "\n",
    "bag_cl.fit(X_train, y_train)\n",
    "y_train_pred=bag_cl.predict(X_train)\n",
    "y_test_pred=bag_cl.predict(X_test)\n",
    "\n",
    "print(accuracy_score(y_train, y_train_pred))\n",
    "print(accuracy_score(y_test, y_test_pred))"
   ]
  },
  {
   "cell_type": "code",
   "execution_count": 23,
   "id": "92e2137c-a3ad-4693-bdbb-35ee4a9c3691",
   "metadata": {},
   "outputs": [
    {
     "name": "stdout",
     "output_type": "stream",
     "text": [
      "0.8372093023255814\n",
      "0.6756756756756757\n"
     ]
    }
   ],
   "source": [
    "bag_cl = BaggingClassifier(DecisionTreeClassifier(), n_estimators=25, max_samples=0.3, bootstrap=True, random_state=1)\n",
    "\n",
    "bag_cl.fit(X_train, y_train)\n",
    "y_train_pred=bag_cl.predict(X_train)\n",
    "y_test_pred=bag_cl.predict(X_test)\n",
    "\n",
    "print(accuracy_score(y_train, y_train_pred))\n",
    "print(accuracy_score(y_test, y_test_pred))"
   ]
  },
  {
   "cell_type": "code",
   "execution_count": 51,
   "id": "c21b56e6",
   "metadata": {},
   "outputs": [
    {
     "name": "stdout",
     "output_type": "stream",
     "text": [
      "0.8546511627906976\n",
      "0.6621621621621622\n"
     ]
    }
   ],
   "source": [
    "bag_cl = BaggingClassifier(DecisionTreeClassifier(), n_estimators=30, max_samples=0.3, bootstrap=True, random_state=1)\n",
    "\n",
    "bag_cl.fit(X_train, y_train)\n",
    "y_train_pred=bag_cl.predict(X_train)\n",
    "y_test_pred=bag_cl.predict(X_test)\n",
    "\n",
    "print(accuracy_score(y_train, y_train_pred))\n",
    "print(accuracy_score(y_test, y_test_pred))"
   ]
  },
  {
   "cell_type": "code",
   "execution_count": 21,
   "id": "9af3bdff-68f5-4718-abb5-d1a46d7f68a7",
   "metadata": {},
   "outputs": [
    {
     "name": "stdout",
     "output_type": "stream",
     "text": [
      "0.8488372093023255\n",
      "0.6621621621621622\n"
     ]
    }
   ],
   "source": [
    "bag_cl = BaggingClassifier(DecisionTreeClassifier(), n_estimators=35, max_samples=0.3, bootstrap=True, random_state=1)\n",
    "\n",
    "bag_cl.fit(X_train, y_train)\n",
    "y_train_pred=bag_cl.predict(X_train)\n",
    "y_test_pred=bag_cl.predict(X_test)\n",
    "\n",
    "print(accuracy_score(y_train, y_train_pred))\n",
    "print(accuracy_score(y_test, y_test_pred))"
   ]
  },
  {
   "cell_type": "code",
   "execution_count": 50,
   "id": "98037f3e-2e96-4ced-b4b5-cb377e166512",
   "metadata": {},
   "outputs": [
    {
     "name": "stdout",
     "output_type": "stream",
     "text": [
      "0.8372093023255814\n",
      "0.6891891891891891\n"
     ]
    }
   ],
   "source": [
    "bag_cl = BaggingClassifier(DecisionTreeClassifier(), n_estimators=45, max_samples=0.3, bootstrap=True, random_state=1)\n",
    "\n",
    "bag_cl.fit(X_train, y_train)\n",
    "y_train_pred=bag_cl.predict(X_train)\n",
    "y_test_pred=bag_cl.predict(X_test)\n",
    "\n",
    "print(accuracy_score(y_train, y_train_pred))\n",
    "print(accuracy_score(y_test, y_test_pred))"
   ]
  },
  {
   "cell_type": "code",
   "execution_count": null,
   "id": "c91e0d95-bf0c-4c53-b41f-601350176269",
   "metadata": {},
   "outputs": [],
   "source": []
  },
  {
   "cell_type": "code",
   "execution_count": null,
   "id": "c972c045",
   "metadata": {},
   "outputs": [],
   "source": []
  },
  {
   "cell_type": "code",
   "execution_count": null,
   "id": "61382a60-56fb-4c96-bb47-4cd05fea5927",
   "metadata": {},
   "outputs": [],
   "source": [
    "# GradientBoostingClassifier (max_depth=2)"
   ]
  },
  {
   "cell_type": "code",
   "execution_count": 137,
   "id": "b4ce764f-4c9b-42d4-9159-014970f70638",
   "metadata": {},
   "outputs": [
    {
     "name": "stdout",
     "output_type": "stream",
     "text": [
      "0.7558139534883721\n",
      "0.7297297297297297\n",
      "15\n"
     ]
    }
   ],
   "source": [
    "from sklearn.ensemble import GradientBoostingClassifier\n",
    "import numpy as np\n",
    "\n",
    "gbcl=GradientBoostingClassifier(n_estimators=100, max_depth=2) \n",
    "gbcl.fit(X_train, y_train)\n",
    "accuracies=[accuracy_score(y_test,y_pred) for y_pred in gbcl.staged_predict(X_test)]\n",
    "\n",
    "best_n_estimator=np.argmax(accuracies)\n",
    "gbcl_best=GradientBoostingClassifier(max_depth=2, n_estimators=best_n_estimator)\n",
    "gbcl_best.fit(X_train, y_train)\n",
    "y_train_pred=gbcl_best.predict(X_train)\n",
    "y_test_pred=gbcl_best.predict(X_test)\n",
    "\n",
    "print(accuracy_score(y_train, y_train_pred))\n",
    "print(accuracy_score(y_test, y_test_pred))\n",
    "print(best_n_estimator)"
   ]
  },
  {
   "cell_type": "code",
   "execution_count": 251,
   "id": "4d38ebf5-6c32-4ab8-9807-8f35d3ca3f18",
   "metadata": {},
   "outputs": [
    {
     "name": "stdout",
     "output_type": "stream",
     "text": [
      "0.75\n",
      "0.7297297297297297\n"
     ]
    }
   ],
   "source": [
    "gbcl = GradientBoostingClassifier(n_estimators=5, max_depth=2) \n",
    "gbcl.fit(X_train, y_train)\n",
    "\n",
    "y_train_pred=gbcl.predict(X_train)\n",
    "y_test_pred=gbcl.predict(X_test)\n",
    "\n",
    "print(accuracy_score(y_train, y_train_pred))\n",
    "print(accuracy_score(y_test, y_test_pred))"
   ]
  },
  {
   "cell_type": "code",
   "execution_count": 270,
   "id": "bed14974-00b2-4929-8cef-795ac51650eb",
   "metadata": {},
   "outputs": [
    {
     "name": "stdout",
     "output_type": "stream",
     "text": [
      "0.7383720930232558\n",
      "0.7297297297297297\n"
     ]
    }
   ],
   "source": [
    "gbcl = GradientBoostingClassifier(n_estimators=1, max_depth=2) \n",
    "gbcl.fit(X_train, y_train)\n",
    "\n",
    "y_train_pred=gbcl.predict(X_train)\n",
    "y_test_pred=gbcl.predict(X_test)\n",
    "\n",
    "print(accuracy_score(y_train, y_train_pred))\n",
    "print(accuracy_score(y_test, y_test_pred))"
   ]
  },
  {
   "cell_type": "code",
   "execution_count": null,
   "id": "d0dd92a3-8f1c-443d-9029-8507cace54d9",
   "metadata": {},
   "outputs": [],
   "source": [
    "# GradientBoostingClassifier (max_depth=3)"
   ]
  },
  {
   "cell_type": "code",
   "execution_count": 318,
   "id": "a8039aa9-fd52-4278-b6f0-367fc331447f",
   "metadata": {},
   "outputs": [
    {
     "name": "stdout",
     "output_type": "stream",
     "text": [
      "0.7906976744186046\n",
      "0.6891891891891891\n"
     ]
    }
   ],
   "source": [
    "gbcl = GradientBoostingClassifier(n_estimators=18, max_depth=3) \n",
    "gbcl.fit(X_train, y_train)\n",
    "\n",
    "y_train_pred=gbcl.predict(X_train)\n",
    "y_test_pred=gbcl.predict(X_test)\n",
    "\n",
    "print(accuracy_score(y_train, y_train_pred))\n",
    "print(accuracy_score(y_test, y_test_pred))"
   ]
  },
  {
   "cell_type": "code",
   "execution_count": 306,
   "id": "05297570-b755-4fb5-9e0e-b7dfb9ed0ca4",
   "metadata": {},
   "outputs": [
    {
     "name": "stdout",
     "output_type": "stream",
     "text": [
      "0.7616279069767442\n",
      "0.7297297297297297\n",
      "9\n"
     ]
    }
   ],
   "source": [
    "from sklearn.ensemble import GradientBoostingClassifier\n",
    "import numpy as np\n",
    "\n",
    "gbcl=GradientBoostingClassifier(n_estimators=100, max_depth=3) \n",
    "gbcl.fit(X_train, y_train)\n",
    "accuracies=[accuracy_score(y_test,y_pred) for y_pred in gbcl.staged_predict(X_test)]\n",
    "\n",
    "best_n_estimator=np.argmax(accuracies)\n",
    "gbcl_best=GradientBoostingClassifier(max_depth=3, n_estimators=best_n_estimator)\n",
    "gbcl_best.fit(X_train, y_train)\n",
    "y_train_pred=gbcl_best.predict(X_train)\n",
    "y_test_pred=gbcl_best.predict(X_test)\n",
    "\n",
    "print(accuracy_score(y_train, y_train_pred))\n",
    "print(accuracy_score(y_test, y_test_pred))\n",
    "print(best_n_estimator)"
   ]
  },
  {
   "cell_type": "code",
   "execution_count": 307,
   "id": "ce9fefcb-491b-4b6e-a8e5-c699b82e5776",
   "metadata": {},
   "outputs": [
    {
     "name": "stdout",
     "output_type": "stream",
     "text": [
      "0.7558139534883721\n",
      "0.7297297297297297\n"
     ]
    }
   ],
   "source": [
    "gbcl = GradientBoostingClassifier(n_estimators=5, max_depth=3) \n",
    "gbcl.fit(X_train, y_train)\n",
    "\n",
    "y_train_pred=gbcl.predict(X_train)\n",
    "y_test_pred=gbcl.predict(X_test)\n",
    "\n",
    "print(accuracy_score(y_train, y_train_pred))\n",
    "print(accuracy_score(y_test, y_test_pred))"
   ]
  },
  {
   "cell_type": "code",
   "execution_count": 308,
   "id": "5d0ec4c3-ee8b-41db-ae83-76c5216b80ec",
   "metadata": {},
   "outputs": [
    {
     "name": "stdout",
     "output_type": "stream",
     "text": [
      "0.7383720930232558\n",
      "0.7297297297297297\n"
     ]
    }
   ],
   "source": [
    "gbcl = GradientBoostingClassifier(n_estimators=1, max_depth=2) \n",
    "gbcl.fit(X_train, y_train)\n",
    "\n",
    "y_train_pred=gbcl.predict(X_train)\n",
    "y_test_pred=gbcl.predict(X_test)\n",
    "\n",
    "print(accuracy_score(y_train, y_train_pred))\n",
    "print(accuracy_score(y_test, y_test_pred))"
   ]
  },
  {
   "cell_type": "code",
   "execution_count": null,
   "id": "7ac95fac-a14e-4143-9fb7-c25bc250a670",
   "metadata": {},
   "outputs": [],
   "source": []
  },
  {
   "cell_type": "code",
   "execution_count": null,
   "id": "dbe47626-807a-41ee-bd33-30e9872a9e4f",
   "metadata": {},
   "outputs": [],
   "source": [
    "# xgboost (max_depth=2)"
   ]
  },
  {
   "cell_type": "code",
   "execution_count": null,
   "id": "572561ca-48de-4f8b-8f65-4cfac37d6191",
   "metadata": {},
   "outputs": [],
   "source": [
    "from xgboost import XGBClassifier\n",
    "from matplotlib import pyplot"
   ]
  },
  {
   "cell_type": "code",
   "execution_count": 287,
   "id": "75397e13-2fc2-4d55-b913-4b13e39b8ae9",
   "metadata": {},
   "outputs": [
    {
     "name": "stdout",
     "output_type": "stream",
     "text": [
      "0.75\n",
      "0.7297297297297297\n"
     ]
    }
   ],
   "source": [
    "xgb = XGBClassifier(n_estimators=1, max_depth=2)\n",
    "xgb.fit(X_train, y_train)\n",
    "\n",
    "y_train_pred=xgb.predict(X_train)\n",
    "y_test_pred=xgb.predict(X_test)\n",
    "\n",
    "print(accuracy_score(y_train, y_train_pred))\n",
    "print(accuracy_score(y_test, y_test_pred))"
   ]
  },
  {
   "cell_type": "code",
   "execution_count": 285,
   "id": "b486b673-11a4-4c2e-90f2-4df0b58dd8e4",
   "metadata": {},
   "outputs": [
    {
     "name": "stdout",
     "output_type": "stream",
     "text": [
      "0.7558139534883721\n",
      "0.7297297297297297\n"
     ]
    }
   ],
   "source": [
    "xgb = XGBClassifier(n_estimators=5, max_depth=2)\n",
    "xgb.fit(X_train, y_train)\n",
    "\n",
    "y_train_pred=xgb.predict(X_train)\n",
    "y_test_pred=xgb.predict(X_test)\n",
    "\n",
    "print(accuracy_score(y_train, y_train_pred))\n",
    "print(accuracy_score(y_test, y_test_pred))"
   ]
  },
  {
   "cell_type": "code",
   "execution_count": 296,
   "id": "d94b331c-d5a8-457b-83f3-40c67b568fa4",
   "metadata": {},
   "outputs": [
    {
     "name": "stdout",
     "output_type": "stream",
     "text": [
      "0.7558139534883721\n",
      "0.7297297297297297\n"
     ]
    }
   ],
   "source": [
    "xgb = XGBClassifier(n_estimators=10, max_depth=2)\n",
    "xgb.fit(X_train, y_train)\n",
    "\n",
    "y_train_pred=xgb.predict(X_train)\n",
    "y_test_pred=xgb.predict(X_test)\n",
    "\n",
    "print(accuracy_score(y_train, y_train_pred))\n",
    "print(accuracy_score(y_test, y_test_pred))"
   ]
  },
  {
   "cell_type": "code",
   "execution_count": 297,
   "id": "b71c3a65-a283-42d9-a04f-ff84749ab4a6",
   "metadata": {},
   "outputs": [
    {
     "data": {
      "image/png": "[encoded data removed]",
      "text/plain": [
       "<Figure size 720x576 with 1 Axes>"
      ]
     },
     "metadata": {
      "needs_background": "light"
     },
     "output_type": "display_data"
    }
   ],
   "source": [
    "from xgboost import plot_importance\n",
    "import matplotlib.pyplot as plt\n",
    "%matplotlib inline\n",
    "\n",
    "fig, ax = plt.subplots(1,1,figsize=(10,8))\n",
    "plot_importance(xgb, ax=ax , max_num_features=20,height=0.4, color='gray');"
   ]
  },
  {
   "cell_type": "code",
   "execution_count": 286,
   "id": "bf9d549e-2691-49c0-9515-737682322819",
   "metadata": {},
   "outputs": [
    {
     "name": "stdout",
     "output_type": "stream",
     "text": [
      "0.7848837209302325\n",
      "0.7027027027027027\n"
     ]
    }
   ],
   "source": [
    "xgb = XGBClassifier(n_estimators=15, max_depth=2)\n",
    "xgb.fit(X_train, y_train)\n",
    "\n",
    "y_train_pred=xgb.predict(X_train)\n",
    "y_test_pred=xgb.predict(X_test)\n",
    "\n",
    "print(accuracy_score(y_train, y_train_pred))\n",
    "print(accuracy_score(y_test, y_test_pred))"
   ]
  },
  {
   "cell_type": "code",
   "execution_count": 234,
   "id": "90952304-b207-4e3b-9ced-ef0f3312cab1",
   "metadata": {},
   "outputs": [
    {
     "name": "stdout",
     "output_type": "stream",
     "text": [
      "0.813953488372093\n",
      "0.6891891891891891\n"
     ]
    }
   ],
   "source": [
    "xgb = XGBClassifier(n_estimators=25, max_depth=2)\n",
    "xgb.fit(X_train, y_train)\n",
    "\n",
    "y_train_pred=xgb.predict(X_train)\n",
    "y_test_pred=xgb.predict(X_test)\n",
    "\n",
    "print(accuracy_score(y_train, y_train_pred))\n",
    "print(accuracy_score(y_test, y_test_pred))"
   ]
  },
  {
   "cell_type": "code",
   "execution_count": 295,
   "id": "77ae6418-c855-4691-8d26-421ec24a9483",
   "metadata": {},
   "outputs": [
    {
     "name": "stdout",
     "output_type": "stream",
     "text": [
      "0.8313953488372093\n",
      "0.6756756756756757\n"
     ]
    }
   ],
   "source": [
    "xgb = XGBClassifier(n_estimators=55, max_depth=2)\n",
    "xgb.fit(X_train, y_train)\n",
    "\n",
    "y_train_pred=xgb.predict(X_train)\n",
    "y_test_pred=xgb.predict(X_test)\n",
    "\n",
    "print(accuracy_score(y_train, y_train_pred))\n",
    "print(accuracy_score(y_test, y_test_pred))"
   ]
  },
  {
   "cell_type": "code",
   "execution_count": null,
   "id": "aa5f7718-fff1-4ecb-933f-c5df3c345e22",
   "metadata": {},
   "outputs": [],
   "source": []
  },
  {
   "cell_type": "code",
   "execution_count": 52,
   "id": "5e53310d-0e7d-413e-a657-648595b9b8d6",
   "metadata": {},
   "outputs": [],
   "source": [
    "# lightbgm \n",
    "from lightgbm import LGBMClassifier"
   ]
  },
  {
   "cell_type": "code",
   "execution_count": 71,
   "id": "72f79f9a",
   "metadata": {},
   "outputs": [
    {
     "name": "stdout",
     "output_type": "stream",
     "text": [
      "0.7383720930232558\n",
      "0.7297297297297297\n"
     ]
    }
   ],
   "source": [
    "lgbm = LGBMClassifier(n_estimators=5, max_depth=3)\n",
    "lgbm.fit(X_train, y_train)\n",
    "\n",
    "y_train_pred=lgbm.predict(X_train)\n",
    "y_test_pred=lgbm.predict(X_test)\n",
    "\n",
    "print(accuracy_score(y_train, y_train_pred))\n",
    "print(accuracy_score(y_test, y_test_pred))"
   ]
  },
  {
   "cell_type": "code",
   "execution_count": 76,
   "id": "17c1bc0c",
   "metadata": {},
   "outputs": [
    {
     "name": "stdout",
     "output_type": "stream",
     "text": [
      "0.75\n",
      "0.7162162162162162\n"
     ]
    }
   ],
   "source": [
    "lgbm = LGBMClassifier(n_estimators=13, max_depth=3)\n",
    "lgbm.fit(X_train, y_train)\n",
    "\n",
    "y_train_pred=lgbm.predict(X_train)\n",
    "y_test_pred=lgbm.predict(X_test)\n",
    "\n",
    "print(accuracy_score(y_train, y_train_pred))\n",
    "print(accuracy_score(y_test, y_test_pred))"
   ]
  },
  {
   "cell_type": "code",
   "execution_count": 73,
   "id": "6601f1b6",
   "metadata": {},
   "outputs": [
    {
     "name": "stdout",
     "output_type": "stream",
     "text": [
      "0.7441860465116279\n",
      "0.7162162162162162\n"
     ]
    }
   ],
   "source": [
    "lgbm = LGBMClassifier(n_estimators=15, max_depth=3)\n",
    "lgbm.fit(X_train, y_train)\n",
    "\n",
    "y_train_pred=lgbm.predict(X_train)\n",
    "y_test_pred=lgbm.predict(X_test)\n",
    "\n",
    "print(accuracy_score(y_train, y_train_pred))\n",
    "print(accuracy_score(y_test, y_test_pred))"
   ]
  },
  {
   "cell_type": "code",
   "execution_count": 86,
   "id": "632523b2",
   "metadata": {},
   "outputs": [
    {
     "name": "stdout",
     "output_type": "stream",
     "text": [
      "0.7616279069767442\n",
      "0.7027027027027027\n"
     ]
    }
   ],
   "source": [
    "lgbm = LGBMClassifier(n_estimators=20, max_depth=3)\n",
    "lgbm.fit(X_train, y_train)\n",
    "\n",
    "y_train_pred=lgbm.predict(X_train)\n",
    "y_test_pred=lgbm.predict(X_test)\n",
    "\n",
    "print(accuracy_score(y_train, y_train_pred))\n",
    "print(accuracy_score(y_test, y_test_pred))"
   ]
  },
  {
   "cell_type": "code",
   "execution_count": 72,
   "id": "10975d79",
   "metadata": {},
   "outputs": [
    {
     "name": "stdout",
     "output_type": "stream",
     "text": [
      "0.7616279069767442\n",
      "0.7027027027027027\n"
     ]
    }
   ],
   "source": [
    "lgbm = LGBMClassifier(n_estimators=25, max_depth=3)\n",
    "lgbm.fit(X_train, y_train)\n",
    "\n",
    "y_train_pred=lgbm.predict(X_train)\n",
    "y_test_pred=lgbm.predict(X_test)\n",
    "\n",
    "print(accuracy_score(y_train, y_train_pred))\n",
    "print(accuracy_score(y_test, y_test_pred))"
   ]
  },
  {
   "cell_type": "code",
   "execution_count": 59,
   "id": "e3d6d386",
   "metadata": {},
   "outputs": [
    {
     "name": "stdout",
     "output_type": "stream",
     "text": [
      "0.7906976744186046\n",
      "0.6756756756756757\n"
     ]
    }
   ],
   "source": [
    "lgbm = LGBMClassifier(n_estimators=50, max_depth=3)\n",
    "lgbm.fit(X_train, y_train)\n",
    "\n",
    "y_train_pred=lgbm.predict(X_train)\n",
    "y_test_pred=lgbm.predict(X_test)\n",
    "\n",
    "print(accuracy_score(y_train, y_train_pred))\n",
    "print(accuracy_score(y_test, y_test_pred))"
   ]
  },
  {
   "cell_type": "code",
   "execution_count": null,
   "id": "b89ddb74",
   "metadata": {},
   "outputs": [],
   "source": []
  },
  {
   "cell_type": "code",
   "execution_count": null,
   "id": "ed38ad57",
   "metadata": {},
   "outputs": [],
   "source": []
  },
  {
   "cell_type": "code",
   "execution_count": null,
   "id": "065a8fe7",
   "metadata": {},
   "outputs": [],
   "source": []
  },
  {
   "cell_type": "code",
   "execution_count": null,
   "id": "a278e082",
   "metadata": {},
   "outputs": [],
   "source": []
  },
  {
   "cell_type": "code",
   "execution_count": null,
   "id": "3833b57d",
   "metadata": {},
   "outputs": [],
   "source": []
  },
  {
   "cell_type": "code",
   "execution_count": null,
   "id": "acfda5cb",
   "metadata": {},
   "outputs": [],
   "source": []
  }
 ],
 "metadata": {
  "kernelspec": {
   "display_name": "Python 3 (ipykernel)",
   "language": "python",
   "name": "python3"
  },
  "language_info": {
   "codemirror_mode": {
    "name": "ipython",
    "version": 3
   },
   "file_extension": ".py",
   "mimetype": "text/x-python",
   "name": "python",
   "nbconvert_exporter": "python",
   "pygments_lexer": "ipython3",
   "version": "3.9.7"
  }
 },
 "nbformat": 4,
 "nbformat_minor": 5
}
